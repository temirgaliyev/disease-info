{
 "metadata": {
  "language_info": {
   "codemirror_mode": {
    "name": "ipython",
    "version": 3
   },
   "file_extension": ".py",
   "mimetype": "text/x-python",
   "name": "python",
   "nbconvert_exporter": "python",
   "pygments_lexer": "ipython3",
   "version": "3.8.5-final"
  },
  "orig_nbformat": 2,
  "kernelspec": {
   "name": "python38564bitcvenvvenvdacd9a0dceda449aa742fb2153367324",
   "display_name": "Python 3.8.5 64-bit ('cvenv': venv)"
  }
 },
 "nbformat": 4,
 "nbformat_minor": 2,
 "cells": [
  {
   "cell_type": "code",
   "execution_count": 4,
   "metadata": {},
   "outputs": [],
   "source": [
    "import pandas as pd\n",
    "import os"
   ]
  },
  {
   "cell_type": "code",
   "execution_count": 5,
   "metadata": {},
   "outputs": [],
   "source": [
    "folder_raw = os.path.join(\"data\", \"raw\")\n",
    "folder_preprocessed = os.path.join(\"data\", \"preprocessed\")"
   ]
  },
  {
   "cell_type": "code",
   "execution_count": 6,
   "metadata": {},
   "outputs": [],
   "source": [
    "def bp_to_cat(ap_hi: int=120, ap_lo: int=80) -> int:\n",
    "    '''\n",
    "    blood pressure to category:\n",
    "        0 - low (hypotension)\n",
    "        1 - normal\n",
    "        2 - elevated\n",
    "        3 - hypertension stage 1\n",
    "        4 - hypertension stage 2\n",
    "        5 - hypertension crisis\n",
    "    '''\n",
    "    if ap_hi <= 90 and ap_lo <= 60:\n",
    "        return 0\n",
    "    if ap_hi <= 120 and ap_lo <= 80:\n",
    "        return 1\n",
    "    if ap_hi <= 130 and ap_lo <= 80:\n",
    "        return 2\n",
    "    if ap_hi < 140 or ap_lo < 90:\n",
    "        return 3\n",
    "    if ap_hi < 180 or ap_lo < 120:\n",
    "        return 4\n",
    "    return 5"
   ]
  },
  {
   "cell_type": "code",
   "execution_count": 7,
   "metadata": {},
   "outputs": [],
   "source": [
    "def chol_to_cat(chol: int) -> int:\n",
    "    '''\n",
    "    cholesterol to category:\n",
    "        0 - normal\n",
    "        1 - above normal\n",
    "        2 - well above normal\n",
    "    '''\n",
    "    if chol < 200:\n",
    "        return 0\n",
    "    if chol < 240:\n",
    "        return 1\n",
    "    return 2"
   ]
  },
  {
   "cell_type": "code",
   "execution_count": 8,
   "metadata": {},
   "outputs": [],
   "source": [
    "def gluc_to_cat(gluc: int) -> int:\n",
    "    '''\n",
    "    glucose to category:\n",
    "        0 - normal\n",
    "        1 - above normal\n",
    "        2 - well above normal\n",
    "    '''\n",
    "    if gluc < 100:\n",
    "        return 0\n",
    "    if gluc < 125:\n",
    "        return 1\n",
    "    return 2"
   ]
  },
  {
   "source": [
    "## Cardiovascular disease"
   ],
   "cell_type": "markdown",
   "metadata": {}
  },
  {
   "cell_type": "code",
   "execution_count": 156,
   "metadata": {},
   "outputs": [],
   "source": [
    "cardio_df = pd.read_csv(os.path.join(folder_raw, \"cardio_train.csv\"), sep=\";\")"
   ]
  },
  {
   "cell_type": "code",
   "execution_count": 157,
   "metadata": {},
   "outputs": [
    {
     "output_type": "execute_result",
     "data": {
      "text/plain": [
       "   id    age  gender  height  weight  ap_hi  ap_lo  cholesterol  gluc  smoke  \\\n",
       "0   0  18393       2     168    62.0    110     80            1     1      0   \n",
       "1   1  20228       1     156    85.0    140     90            3     1      0   \n",
       "2   2  18857       1     165    64.0    130     70            3     1      0   \n",
       "3   3  17623       2     169    82.0    150    100            1     1      0   \n",
       "4   4  17474       1     156    56.0    100     60            1     1      0   \n",
       "\n",
       "   alco  active  cardio  \n",
       "0     0       1       0  \n",
       "1     0       1       1  \n",
       "2     0       0       1  \n",
       "3     0       1       1  \n",
       "4     0       0       0  "
      ],
      "text/html": "<div>\n<style scoped>\n    .dataframe tbody tr th:only-of-type {\n        vertical-align: middle;\n    }\n\n    .dataframe tbody tr th {\n        vertical-align: top;\n    }\n\n    .dataframe thead th {\n        text-align: right;\n    }\n</style>\n<table border=\"1\" class=\"dataframe\">\n  <thead>\n    <tr style=\"text-align: right;\">\n      <th></th>\n      <th>id</th>\n      <th>age</th>\n      <th>gender</th>\n      <th>height</th>\n      <th>weight</th>\n      <th>ap_hi</th>\n      <th>ap_lo</th>\n      <th>cholesterol</th>\n      <th>gluc</th>\n      <th>smoke</th>\n      <th>alco</th>\n      <th>active</th>\n      <th>cardio</th>\n    </tr>\n  </thead>\n  <tbody>\n    <tr>\n      <th>0</th>\n      <td>0</td>\n      <td>18393</td>\n      <td>2</td>\n      <td>168</td>\n      <td>62.0</td>\n      <td>110</td>\n      <td>80</td>\n      <td>1</td>\n      <td>1</td>\n      <td>0</td>\n      <td>0</td>\n      <td>1</td>\n      <td>0</td>\n    </tr>\n    <tr>\n      <th>1</th>\n      <td>1</td>\n      <td>20228</td>\n      <td>1</td>\n      <td>156</td>\n      <td>85.0</td>\n      <td>140</td>\n      <td>90</td>\n      <td>3</td>\n      <td>1</td>\n      <td>0</td>\n      <td>0</td>\n      <td>1</td>\n      <td>1</td>\n    </tr>\n    <tr>\n      <th>2</th>\n      <td>2</td>\n      <td>18857</td>\n      <td>1</td>\n      <td>165</td>\n      <td>64.0</td>\n      <td>130</td>\n      <td>70</td>\n      <td>3</td>\n      <td>1</td>\n      <td>0</td>\n      <td>0</td>\n      <td>0</td>\n      <td>1</td>\n    </tr>\n    <tr>\n      <th>3</th>\n      <td>3</td>\n      <td>17623</td>\n      <td>2</td>\n      <td>169</td>\n      <td>82.0</td>\n      <td>150</td>\n      <td>100</td>\n      <td>1</td>\n      <td>1</td>\n      <td>0</td>\n      <td>0</td>\n      <td>1</td>\n      <td>1</td>\n    </tr>\n    <tr>\n      <th>4</th>\n      <td>4</td>\n      <td>17474</td>\n      <td>1</td>\n      <td>156</td>\n      <td>56.0</td>\n      <td>100</td>\n      <td>60</td>\n      <td>1</td>\n      <td>1</td>\n      <td>0</td>\n      <td>0</td>\n      <td>0</td>\n      <td>0</td>\n    </tr>\n  </tbody>\n</table>\n</div>"
     },
     "metadata": {},
     "execution_count": 157
    }
   ],
   "source": [
    "cardio_df.head()"
   ]
  },
  {
   "cell_type": "code",
   "execution_count": 158,
   "metadata": {},
   "outputs": [],
   "source": [
    "cardio_df['age'] = cardio_df['age']//365.25\n",
    "cardio_df['age'] = cardio_df['age'].astype(int)"
   ]
  },
  {
   "cell_type": "code",
   "execution_count": 159,
   "metadata": {},
   "outputs": [],
   "source": [
    "cardio_df['gender'] = cardio_df['gender'].apply(lambda x: 1 if x==1 else 0)"
   ]
  },
  {
   "cell_type": "code",
   "execution_count": 160,
   "metadata": {},
   "outputs": [],
   "source": [
    "cardio_df['weight'] = cardio_df['weight'].astype(int)"
   ]
  },
  {
   "cell_type": "code",
   "execution_count": 161,
   "metadata": {},
   "outputs": [],
   "source": [
    "cardio_df['blood_pressure'] = cardio_df.apply(lambda row: bp_to_cat(row['ap_hi'], row['ap_lo']), axis=1)"
   ]
  },
  {
   "cell_type": "code",
   "execution_count": 162,
   "metadata": {},
   "outputs": [],
   "source": [
    "cardio_df['hypertension'] = cardio_df['blood_pressure'].apply(lambda x: 1 if x>=3 else 0)"
   ]
  },
  {
   "cell_type": "code",
   "execution_count": 163,
   "metadata": {},
   "outputs": [],
   "source": [
    "cardio_df['cholesterol'] -= 1"
   ]
  },
  {
   "cell_type": "code",
   "execution_count": 164,
   "metadata": {},
   "outputs": [],
   "source": [
    "cardio_df['glucose'] = cardio_df['gluc']-1"
   ]
  },
  {
   "cell_type": "code",
   "execution_count": 165,
   "metadata": {},
   "outputs": [],
   "source": [
    "cardio_df['diabetes'] = cardio_df['glucose'].apply(lambda x: 1 if x >= 2 else 0)"
   ]
  },
  {
   "cell_type": "code",
   "execution_count": 166,
   "metadata": {},
   "outputs": [],
   "source": [
    "cardio_df['alcohol'] = cardio_df['alco']"
   ]
  },
  {
   "cell_type": "code",
   "execution_count": 167,
   "metadata": {},
   "outputs": [],
   "source": [
    "cardio_df['cardio_disease'] = cardio_df['cardio']"
   ]
  },
  {
   "cell_type": "code",
   "execution_count": 168,
   "metadata": {},
   "outputs": [
    {
     "output_type": "execute_result",
     "data": {
      "text/plain": [
       "   id  age  gender  height  weight  ap_hi  ap_lo  cholesterol  gluc  smoke  \\\n",
       "0   0   50       0     168      62    110     80            0     1      0   \n",
       "1   1   55       1     156      85    140     90            2     1      0   \n",
       "2   2   51       1     165      64    130     70            2     1      0   \n",
       "3   3   48       0     169      82    150    100            0     1      0   \n",
       "4   4   47       1     156      56    100     60            0     1      0   \n",
       "\n",
       "   alco  active  cardio  blood_pressure  hypertension  glucose  diabetes  \\\n",
       "0     0       1       0               1             0        0         0   \n",
       "1     0       1       1               4             1        0         0   \n",
       "2     0       0       1               2             0        0         0   \n",
       "3     0       1       1               4             1        0         0   \n",
       "4     0       0       0               1             0        0         0   \n",
       "\n",
       "   alcohol  cardio_disease  \n",
       "0        0               0  \n",
       "1        0               1  \n",
       "2        0               1  \n",
       "3        0               1  \n",
       "4        0               0  "
      ],
      "text/html": "<div>\n<style scoped>\n    .dataframe tbody tr th:only-of-type {\n        vertical-align: middle;\n    }\n\n    .dataframe tbody tr th {\n        vertical-align: top;\n    }\n\n    .dataframe thead th {\n        text-align: right;\n    }\n</style>\n<table border=\"1\" class=\"dataframe\">\n  <thead>\n    <tr style=\"text-align: right;\">\n      <th></th>\n      <th>id</th>\n      <th>age</th>\n      <th>gender</th>\n      <th>height</th>\n      <th>weight</th>\n      <th>ap_hi</th>\n      <th>ap_lo</th>\n      <th>cholesterol</th>\n      <th>gluc</th>\n      <th>smoke</th>\n      <th>alco</th>\n      <th>active</th>\n      <th>cardio</th>\n      <th>blood_pressure</th>\n      <th>hypertension</th>\n      <th>glucose</th>\n      <th>diabetes</th>\n      <th>alcohol</th>\n      <th>cardio_disease</th>\n    </tr>\n  </thead>\n  <tbody>\n    <tr>\n      <th>0</th>\n      <td>0</td>\n      <td>50</td>\n      <td>0</td>\n      <td>168</td>\n      <td>62</td>\n      <td>110</td>\n      <td>80</td>\n      <td>0</td>\n      <td>1</td>\n      <td>0</td>\n      <td>0</td>\n      <td>1</td>\n      <td>0</td>\n      <td>1</td>\n      <td>0</td>\n      <td>0</td>\n      <td>0</td>\n      <td>0</td>\n      <td>0</td>\n    </tr>\n    <tr>\n      <th>1</th>\n      <td>1</td>\n      <td>55</td>\n      <td>1</td>\n      <td>156</td>\n      <td>85</td>\n      <td>140</td>\n      <td>90</td>\n      <td>2</td>\n      <td>1</td>\n      <td>0</td>\n      <td>0</td>\n      <td>1</td>\n      <td>1</td>\n      <td>4</td>\n      <td>1</td>\n      <td>0</td>\n      <td>0</td>\n      <td>0</td>\n      <td>1</td>\n    </tr>\n    <tr>\n      <th>2</th>\n      <td>2</td>\n      <td>51</td>\n      <td>1</td>\n      <td>165</td>\n      <td>64</td>\n      <td>130</td>\n      <td>70</td>\n      <td>2</td>\n      <td>1</td>\n      <td>0</td>\n      <td>0</td>\n      <td>0</td>\n      <td>1</td>\n      <td>2</td>\n      <td>0</td>\n      <td>0</td>\n      <td>0</td>\n      <td>0</td>\n      <td>1</td>\n    </tr>\n    <tr>\n      <th>3</th>\n      <td>3</td>\n      <td>48</td>\n      <td>0</td>\n      <td>169</td>\n      <td>82</td>\n      <td>150</td>\n      <td>100</td>\n      <td>0</td>\n      <td>1</td>\n      <td>0</td>\n      <td>0</td>\n      <td>1</td>\n      <td>1</td>\n      <td>4</td>\n      <td>1</td>\n      <td>0</td>\n      <td>0</td>\n      <td>0</td>\n      <td>1</td>\n    </tr>\n    <tr>\n      <th>4</th>\n      <td>4</td>\n      <td>47</td>\n      <td>1</td>\n      <td>156</td>\n      <td>56</td>\n      <td>100</td>\n      <td>60</td>\n      <td>0</td>\n      <td>1</td>\n      <td>0</td>\n      <td>0</td>\n      <td>0</td>\n      <td>0</td>\n      <td>1</td>\n      <td>0</td>\n      <td>0</td>\n      <td>0</td>\n      <td>0</td>\n      <td>0</td>\n    </tr>\n  </tbody>\n</table>\n</div>"
     },
     "metadata": {},
     "execution_count": 168
    }
   ],
   "source": [
    "cardio_df.head()"
   ]
  },
  {
   "cell_type": "code",
   "execution_count": 169,
   "metadata": {},
   "outputs": [],
   "source": [
    "columns = ['age', 'gender', 'height', 'weight', 'blood_pressure', 'cholesterol', 'glucose', 'smoke', 'alcohol', 'active', 'cardio_disease', 'hypertension', 'diabetes']\n",
    "cardio_df.to_csv(os.path.join(folder_preprocessed, \"cardio.csv\"), columns=columns)"
   ]
  },
  {
   "cell_type": "code",
   "execution_count": null,
   "metadata": {},
   "outputs": [],
   "source": []
  },
  {
   "source": [
    "## Heart disease"
   ],
   "cell_type": "markdown",
   "metadata": {}
  },
  {
   "cell_type": "code",
   "execution_count": 92,
   "metadata": {},
   "outputs": [],
   "source": [
    "heart_df = pd.read_csv(os.path.join(folder_raw, \"heart.csv\"))"
   ]
  },
  {
   "cell_type": "code",
   "execution_count": 93,
   "metadata": {},
   "outputs": [
    {
     "output_type": "execute_result",
     "data": {
      "text/plain": [
       "   age  sex  cp  trestbps  chol  fbs  restecg  thalach  exang  oldpeak  slope  \\\n",
       "0   63    1   3       145   233    1        0      150      0      2.3      0   \n",
       "1   37    1   2       130   250    0        1      187      0      3.5      0   \n",
       "2   41    0   1       130   204    0        0      172      0      1.4      2   \n",
       "3   56    1   1       120   236    0        1      178      0      0.8      2   \n",
       "4   57    0   0       120   354    0        1      163      1      0.6      2   \n",
       "\n",
       "   ca  thal  target  \n",
       "0   0     1       1  \n",
       "1   0     2       1  \n",
       "2   0     2       1  \n",
       "3   0     2       1  \n",
       "4   0     2       1  "
      ],
      "text/html": "<div>\n<style scoped>\n    .dataframe tbody tr th:only-of-type {\n        vertical-align: middle;\n    }\n\n    .dataframe tbody tr th {\n        vertical-align: top;\n    }\n\n    .dataframe thead th {\n        text-align: right;\n    }\n</style>\n<table border=\"1\" class=\"dataframe\">\n  <thead>\n    <tr style=\"text-align: right;\">\n      <th></th>\n      <th>age</th>\n      <th>sex</th>\n      <th>cp</th>\n      <th>trestbps</th>\n      <th>chol</th>\n      <th>fbs</th>\n      <th>restecg</th>\n      <th>thalach</th>\n      <th>exang</th>\n      <th>oldpeak</th>\n      <th>slope</th>\n      <th>ca</th>\n      <th>thal</th>\n      <th>target</th>\n    </tr>\n  </thead>\n  <tbody>\n    <tr>\n      <th>0</th>\n      <td>63</td>\n      <td>1</td>\n      <td>3</td>\n      <td>145</td>\n      <td>233</td>\n      <td>1</td>\n      <td>0</td>\n      <td>150</td>\n      <td>0</td>\n      <td>2.3</td>\n      <td>0</td>\n      <td>0</td>\n      <td>1</td>\n      <td>1</td>\n    </tr>\n    <tr>\n      <th>1</th>\n      <td>37</td>\n      <td>1</td>\n      <td>2</td>\n      <td>130</td>\n      <td>250</td>\n      <td>0</td>\n      <td>1</td>\n      <td>187</td>\n      <td>0</td>\n      <td>3.5</td>\n      <td>0</td>\n      <td>0</td>\n      <td>2</td>\n      <td>1</td>\n    </tr>\n    <tr>\n      <th>2</th>\n      <td>41</td>\n      <td>0</td>\n      <td>1</td>\n      <td>130</td>\n      <td>204</td>\n      <td>0</td>\n      <td>0</td>\n      <td>172</td>\n      <td>0</td>\n      <td>1.4</td>\n      <td>2</td>\n      <td>0</td>\n      <td>2</td>\n      <td>1</td>\n    </tr>\n    <tr>\n      <th>3</th>\n      <td>56</td>\n      <td>1</td>\n      <td>1</td>\n      <td>120</td>\n      <td>236</td>\n      <td>0</td>\n      <td>1</td>\n      <td>178</td>\n      <td>0</td>\n      <td>0.8</td>\n      <td>2</td>\n      <td>0</td>\n      <td>2</td>\n      <td>1</td>\n    </tr>\n    <tr>\n      <th>4</th>\n      <td>57</td>\n      <td>0</td>\n      <td>0</td>\n      <td>120</td>\n      <td>354</td>\n      <td>0</td>\n      <td>1</td>\n      <td>163</td>\n      <td>1</td>\n      <td>0.6</td>\n      <td>2</td>\n      <td>0</td>\n      <td>2</td>\n      <td>1</td>\n    </tr>\n  </tbody>\n</table>\n</div>"
     },
     "metadata": {},
     "execution_count": 93
    }
   ],
   "source": [
    "heart_df.head()"
   ]
  },
  {
   "cell_type": "code",
   "execution_count": 94,
   "metadata": {},
   "outputs": [],
   "source": [
    "heart_df['gender'] = heart_df['sex']"
   ]
  },
  {
   "cell_type": "code",
   "execution_count": 95,
   "metadata": {},
   "outputs": [],
   "source": [
    "heart_df['chest_pain_type'] = heart_df['cp']"
   ]
  },
  {
   "cell_type": "code",
   "execution_count": 96,
   "metadata": {},
   "outputs": [],
   "source": [
    "heart_df['blood_pressure'] = heart_df['trestbps'].apply(lambda bps: bp_to_cat(ap_hi=bps))"
   ]
  },
  {
   "cell_type": "code",
   "execution_count": 97,
   "metadata": {},
   "outputs": [],
   "source": [
    "heart_df['hypertension'] = heart_df['blood_pressure'].apply(lambda x: 1 if x>=3 else 0)"
   ]
  },
  {
   "cell_type": "code",
   "execution_count": 98,
   "metadata": {},
   "outputs": [],
   "source": [
    "heart_df['cholesterol'] = heart_df['chol'].apply(lambda chol: chol_to_cat(chol))"
   ]
  },
  {
   "cell_type": "code",
   "execution_count": 99,
   "metadata": {},
   "outputs": [],
   "source": [
    "heart_df['diabetes'] = heart_df['fbs']"
   ]
  },
  {
   "cell_type": "code",
   "execution_count": 100,
   "metadata": {},
   "outputs": [],
   "source": [
    "heart_df['max_heart_rate'] = heart_df['thalach']"
   ]
  },
  {
   "cell_type": "code",
   "execution_count": 103,
   "metadata": {},
   "outputs": [],
   "source": [
    "# coronary artery disease\n",
    "# 0 not present, 1 - present \n",
    "heart_df['cad'] =  heart_df['oldpeak'].apply(lambda x: 1 if x>1.0 else 0)"
   ]
  },
  {
   "cell_type": "code",
   "execution_count": 104,
   "metadata": {},
   "outputs": [],
   "source": [
    "heart_df['heart_disease'] = heart_df['target']"
   ]
  },
  {
   "cell_type": "code",
   "execution_count": 105,
   "metadata": {},
   "outputs": [
    {
     "output_type": "execute_result",
     "data": {
      "text/plain": [
       "   age  sex  cp  trestbps  chol  fbs  restecg  thalach  exang  oldpeak  ...  \\\n",
       "0   63    1   3       145   233    1        0      150      0      2.3  ...   \n",
       "1   37    1   2       130   250    0        1      187      0      3.5  ...   \n",
       "2   41    0   1       130   204    0        0      172      0      1.4  ...   \n",
       "3   56    1   1       120   236    0        1      178      0      0.8  ...   \n",
       "4   57    0   0       120   354    0        1      163      1      0.6  ...   \n",
       "\n",
       "   target  gender  chest_pain_type  blood_pressure  hypertension  cholesterol  \\\n",
       "0       1       1                3               3             1            1   \n",
       "1       1       1                2               2             0            2   \n",
       "2       1       0                1               2             0            1   \n",
       "3       1       1                1               1             0            1   \n",
       "4       1       0                0               1             0            2   \n",
       "\n",
       "   diabetes  max_heart_rate  heart_disease  cad  \n",
       "0         1             150              1    1  \n",
       "1         0             187              1    1  \n",
       "2         0             172              1    1  \n",
       "3         0             178              1    0  \n",
       "4         0             163              1    0  \n",
       "\n",
       "[5 rows x 23 columns]"
      ],
      "text/html": "<div>\n<style scoped>\n    .dataframe tbody tr th:only-of-type {\n        vertical-align: middle;\n    }\n\n    .dataframe tbody tr th {\n        vertical-align: top;\n    }\n\n    .dataframe thead th {\n        text-align: right;\n    }\n</style>\n<table border=\"1\" class=\"dataframe\">\n  <thead>\n    <tr style=\"text-align: right;\">\n      <th></th>\n      <th>age</th>\n      <th>sex</th>\n      <th>cp</th>\n      <th>trestbps</th>\n      <th>chol</th>\n      <th>fbs</th>\n      <th>restecg</th>\n      <th>thalach</th>\n      <th>exang</th>\n      <th>oldpeak</th>\n      <th>...</th>\n      <th>target</th>\n      <th>gender</th>\n      <th>chest_pain_type</th>\n      <th>blood_pressure</th>\n      <th>hypertension</th>\n      <th>cholesterol</th>\n      <th>diabetes</th>\n      <th>max_heart_rate</th>\n      <th>heart_disease</th>\n      <th>cad</th>\n    </tr>\n  </thead>\n  <tbody>\n    <tr>\n      <th>0</th>\n      <td>63</td>\n      <td>1</td>\n      <td>3</td>\n      <td>145</td>\n      <td>233</td>\n      <td>1</td>\n      <td>0</td>\n      <td>150</td>\n      <td>0</td>\n      <td>2.3</td>\n      <td>...</td>\n      <td>1</td>\n      <td>1</td>\n      <td>3</td>\n      <td>3</td>\n      <td>1</td>\n      <td>1</td>\n      <td>1</td>\n      <td>150</td>\n      <td>1</td>\n      <td>1</td>\n    </tr>\n    <tr>\n      <th>1</th>\n      <td>37</td>\n      <td>1</td>\n      <td>2</td>\n      <td>130</td>\n      <td>250</td>\n      <td>0</td>\n      <td>1</td>\n      <td>187</td>\n      <td>0</td>\n      <td>3.5</td>\n      <td>...</td>\n      <td>1</td>\n      <td>1</td>\n      <td>2</td>\n      <td>2</td>\n      <td>0</td>\n      <td>2</td>\n      <td>0</td>\n      <td>187</td>\n      <td>1</td>\n      <td>1</td>\n    </tr>\n    <tr>\n      <th>2</th>\n      <td>41</td>\n      <td>0</td>\n      <td>1</td>\n      <td>130</td>\n      <td>204</td>\n      <td>0</td>\n      <td>0</td>\n      <td>172</td>\n      <td>0</td>\n      <td>1.4</td>\n      <td>...</td>\n      <td>1</td>\n      <td>0</td>\n      <td>1</td>\n      <td>2</td>\n      <td>0</td>\n      <td>1</td>\n      <td>0</td>\n      <td>172</td>\n      <td>1</td>\n      <td>1</td>\n    </tr>\n    <tr>\n      <th>3</th>\n      <td>56</td>\n      <td>1</td>\n      <td>1</td>\n      <td>120</td>\n      <td>236</td>\n      <td>0</td>\n      <td>1</td>\n      <td>178</td>\n      <td>0</td>\n      <td>0.8</td>\n      <td>...</td>\n      <td>1</td>\n      <td>1</td>\n      <td>1</td>\n      <td>1</td>\n      <td>0</td>\n      <td>1</td>\n      <td>0</td>\n      <td>178</td>\n      <td>1</td>\n      <td>0</td>\n    </tr>\n    <tr>\n      <th>4</th>\n      <td>57</td>\n      <td>0</td>\n      <td>0</td>\n      <td>120</td>\n      <td>354</td>\n      <td>0</td>\n      <td>1</td>\n      <td>163</td>\n      <td>1</td>\n      <td>0.6</td>\n      <td>...</td>\n      <td>1</td>\n      <td>0</td>\n      <td>0</td>\n      <td>1</td>\n      <td>0</td>\n      <td>2</td>\n      <td>0</td>\n      <td>163</td>\n      <td>1</td>\n      <td>0</td>\n    </tr>\n  </tbody>\n</table>\n<p>5 rows × 23 columns</p>\n</div>"
     },
     "metadata": {},
     "execution_count": 105
    }
   ],
   "source": [
    "heart_df.head()"
   ]
  },
  {
   "cell_type": "code",
   "execution_count": 106,
   "metadata": {},
   "outputs": [
    {
     "output_type": "execute_result",
     "data": {
      "text/plain": [
       "Index(['age', 'sex', 'cp', 'trestbps', 'chol', 'fbs', 'restecg', 'thalach',\n",
       "       'exang', 'oldpeak', 'slope', 'ca', 'thal', 'target', 'gender',\n",
       "       'chest_pain_type', 'blood_pressure', 'hypertension', 'cholesterol',\n",
       "       'diabetes', 'max_heart_rate', 'heart_disease', 'cad'],\n",
       "      dtype='object')"
      ]
     },
     "metadata": {},
     "execution_count": 106
    }
   ],
   "source": [
    "heart_df.columns"
   ]
  },
  {
   "cell_type": "code",
   "execution_count": 107,
   "metadata": {},
   "outputs": [],
   "source": [
    "columns = ['age', 'gender', 'chest_pain_type', 'blood_pressure', 'cholesterol', 'diabetes', 'max_heart_rate', 'cad', 'heart_disease', 'hypertension']\n",
    "heart_df.to_csv(os.path.join(folder_preprocessed, \"heart.csv\"), columns=columns)"
   ]
  },
  {
   "cell_type": "code",
   "execution_count": null,
   "metadata": {},
   "outputs": [],
   "source": []
  },
  {
   "source": [
    "## Chronic Kidney disease"
   ],
   "cell_type": "markdown",
   "metadata": {}
  },
  {
   "cell_type": "code",
   "execution_count": 9,
   "metadata": {},
   "outputs": [],
   "source": [
    "kidney_df = pd.read_csv(os.path.join(folder_raw, \"kidney_disease.csv\"))"
   ]
  },
  {
   "cell_type": "code",
   "execution_count": 10,
   "metadata": {},
   "outputs": [
    {
     "output_type": "execute_result",
     "data": {
      "text/plain": [
       "   id   age    bp     sg   al   su     rbc        pc         pcc          ba  \\\n",
       "0   0  48.0  80.0  1.020  1.0  0.0     NaN    normal  notpresent  notpresent   \n",
       "1   1   7.0  50.0  1.020  4.0  0.0     NaN    normal  notpresent  notpresent   \n",
       "2   2  62.0  80.0  1.010  2.0  3.0  normal    normal  notpresent  notpresent   \n",
       "3   3  48.0  70.0  1.005  4.0  0.0  normal  abnormal     present  notpresent   \n",
       "4   4  51.0  80.0  1.010  2.0  0.0  normal    normal  notpresent  notpresent   \n",
       "\n",
       "   ...  pcv    wc   rc  htn   dm  cad appet   pe  ane classification  \n",
       "0  ...   44  7800  5.2  yes  yes   no  good   no   no            ckd  \n",
       "1  ...   38  6000  NaN   no   no   no  good   no   no            ckd  \n",
       "2  ...   31  7500  NaN   no  yes   no  poor   no  yes            ckd  \n",
       "3  ...   32  6700  3.9  yes   no   no  poor  yes  yes            ckd  \n",
       "4  ...   35  7300  4.6   no   no   no  good   no   no            ckd  \n",
       "\n",
       "[5 rows x 26 columns]"
      ],
      "text/html": "<div>\n<style scoped>\n    .dataframe tbody tr th:only-of-type {\n        vertical-align: middle;\n    }\n\n    .dataframe tbody tr th {\n        vertical-align: top;\n    }\n\n    .dataframe thead th {\n        text-align: right;\n    }\n</style>\n<table border=\"1\" class=\"dataframe\">\n  <thead>\n    <tr style=\"text-align: right;\">\n      <th></th>\n      <th>id</th>\n      <th>age</th>\n      <th>bp</th>\n      <th>sg</th>\n      <th>al</th>\n      <th>su</th>\n      <th>rbc</th>\n      <th>pc</th>\n      <th>pcc</th>\n      <th>ba</th>\n      <th>...</th>\n      <th>pcv</th>\n      <th>wc</th>\n      <th>rc</th>\n      <th>htn</th>\n      <th>dm</th>\n      <th>cad</th>\n      <th>appet</th>\n      <th>pe</th>\n      <th>ane</th>\n      <th>classification</th>\n    </tr>\n  </thead>\n  <tbody>\n    <tr>\n      <th>0</th>\n      <td>0</td>\n      <td>48.0</td>\n      <td>80.0</td>\n      <td>1.020</td>\n      <td>1.0</td>\n      <td>0.0</td>\n      <td>NaN</td>\n      <td>normal</td>\n      <td>notpresent</td>\n      <td>notpresent</td>\n      <td>...</td>\n      <td>44</td>\n      <td>7800</td>\n      <td>5.2</td>\n      <td>yes</td>\n      <td>yes</td>\n      <td>no</td>\n      <td>good</td>\n      <td>no</td>\n      <td>no</td>\n      <td>ckd</td>\n    </tr>\n    <tr>\n      <th>1</th>\n      <td>1</td>\n      <td>7.0</td>\n      <td>50.0</td>\n      <td>1.020</td>\n      <td>4.0</td>\n      <td>0.0</td>\n      <td>NaN</td>\n      <td>normal</td>\n      <td>notpresent</td>\n      <td>notpresent</td>\n      <td>...</td>\n      <td>38</td>\n      <td>6000</td>\n      <td>NaN</td>\n      <td>no</td>\n      <td>no</td>\n      <td>no</td>\n      <td>good</td>\n      <td>no</td>\n      <td>no</td>\n      <td>ckd</td>\n    </tr>\n    <tr>\n      <th>2</th>\n      <td>2</td>\n      <td>62.0</td>\n      <td>80.0</td>\n      <td>1.010</td>\n      <td>2.0</td>\n      <td>3.0</td>\n      <td>normal</td>\n      <td>normal</td>\n      <td>notpresent</td>\n      <td>notpresent</td>\n      <td>...</td>\n      <td>31</td>\n      <td>7500</td>\n      <td>NaN</td>\n      <td>no</td>\n      <td>yes</td>\n      <td>no</td>\n      <td>poor</td>\n      <td>no</td>\n      <td>yes</td>\n      <td>ckd</td>\n    </tr>\n    <tr>\n      <th>3</th>\n      <td>3</td>\n      <td>48.0</td>\n      <td>70.0</td>\n      <td>1.005</td>\n      <td>4.0</td>\n      <td>0.0</td>\n      <td>normal</td>\n      <td>abnormal</td>\n      <td>present</td>\n      <td>notpresent</td>\n      <td>...</td>\n      <td>32</td>\n      <td>6700</td>\n      <td>3.9</td>\n      <td>yes</td>\n      <td>no</td>\n      <td>no</td>\n      <td>poor</td>\n      <td>yes</td>\n      <td>yes</td>\n      <td>ckd</td>\n    </tr>\n    <tr>\n      <th>4</th>\n      <td>4</td>\n      <td>51.0</td>\n      <td>80.0</td>\n      <td>1.010</td>\n      <td>2.0</td>\n      <td>0.0</td>\n      <td>normal</td>\n      <td>normal</td>\n      <td>notpresent</td>\n      <td>notpresent</td>\n      <td>...</td>\n      <td>35</td>\n      <td>7300</td>\n      <td>4.6</td>\n      <td>no</td>\n      <td>no</td>\n      <td>no</td>\n      <td>good</td>\n      <td>no</td>\n      <td>no</td>\n      <td>ckd</td>\n    </tr>\n  </tbody>\n</table>\n<p>5 rows × 26 columns</p>\n</div>"
     },
     "metadata": {},
     "execution_count": 10
    }
   ],
   "source": [
    "kidney_df.head()"
   ]
  },
  {
   "cell_type": "code",
   "execution_count": 11,
   "metadata": {},
   "outputs": [
    {
     "output_type": "execute_result",
     "data": {
      "text/plain": [
       "      id  age     bp     sg   al   su       rbc        pc         pcc  \\\n",
       "30    30  NaN   70.0    NaN  NaN  NaN       NaN       NaN  notpresent   \n",
       "73    73  NaN  100.0  1.015  2.0  0.0  abnormal  abnormal  notpresent   \n",
       "112  112  NaN   60.0  1.015  3.0  0.0  abnormal  abnormal  notpresent   \n",
       "116  116  NaN   70.0  1.015  4.0  0.0  abnormal    normal  notpresent   \n",
       "117  117  NaN   70.0  1.020  0.0  0.0       NaN       NaN  notpresent   \n",
       "169  169  NaN   70.0  1.010  0.0  2.0       NaN    normal  notpresent   \n",
       "191  191  NaN   70.0  1.010  3.0  0.0    normal    normal  notpresent   \n",
       "203  203  NaN   90.0    NaN  NaN  NaN       NaN       NaN  notpresent   \n",
       "268  268  NaN   80.0    NaN  NaN  NaN       NaN       NaN  notpresent   \n",
       "\n",
       "             ba  ...  pcv    wc   rc  htn    dm  cad appet   pe  ane  \\\n",
       "30   notpresent  ...  NaN   NaN  NaN  yes   yes   no  good   no   no   \n",
       "73   notpresent  ...   14  6300  NaN  yes    no   no  good  yes  yes   \n",
       "112  notpresent  ...   33   NaN  NaN   no    no   no  good   no   no   \n",
       "116  notpresent  ...  NaN   NaN  NaN   no    no   no  good  yes   no   \n",
       "117  notpresent  ...   37  9800  4.4   no    no   no  good   no   no   \n",
       "169  notpresent  ...   27   NaN  NaN  yes   yes   no  good   no  yes   \n",
       "191  notpresent  ...   26  9200  3.4  yes   yes   no  poor   no   no   \n",
       "203  notpresent  ...  NaN   NaN  NaN  yes   yes   no  good   no  yes   \n",
       "268  notpresent  ...   53  8500  4.9   no    no   no  good   no   no   \n",
       "\n",
       "    classification  \n",
       "30             ckd  \n",
       "73             ckd  \n",
       "112            ckd  \n",
       "116            ckd  \n",
       "117            ckd  \n",
       "169            ckd  \n",
       "191            ckd  \n",
       "203            ckd  \n",
       "268         notckd  \n",
       "\n",
       "[9 rows x 26 columns]"
      ],
      "text/html": "<div>\n<style scoped>\n    .dataframe tbody tr th:only-of-type {\n        vertical-align: middle;\n    }\n\n    .dataframe tbody tr th {\n        vertical-align: top;\n    }\n\n    .dataframe thead th {\n        text-align: right;\n    }\n</style>\n<table border=\"1\" class=\"dataframe\">\n  <thead>\n    <tr style=\"text-align: right;\">\n      <th></th>\n      <th>id</th>\n      <th>age</th>\n      <th>bp</th>\n      <th>sg</th>\n      <th>al</th>\n      <th>su</th>\n      <th>rbc</th>\n      <th>pc</th>\n      <th>pcc</th>\n      <th>ba</th>\n      <th>...</th>\n      <th>pcv</th>\n      <th>wc</th>\n      <th>rc</th>\n      <th>htn</th>\n      <th>dm</th>\n      <th>cad</th>\n      <th>appet</th>\n      <th>pe</th>\n      <th>ane</th>\n      <th>classification</th>\n    </tr>\n  </thead>\n  <tbody>\n    <tr>\n      <th>30</th>\n      <td>30</td>\n      <td>NaN</td>\n      <td>70.0</td>\n      <td>NaN</td>\n      <td>NaN</td>\n      <td>NaN</td>\n      <td>NaN</td>\n      <td>NaN</td>\n      <td>notpresent</td>\n      <td>notpresent</td>\n      <td>...</td>\n      <td>NaN</td>\n      <td>NaN</td>\n      <td>NaN</td>\n      <td>yes</td>\n      <td>yes</td>\n      <td>no</td>\n      <td>good</td>\n      <td>no</td>\n      <td>no</td>\n      <td>ckd</td>\n    </tr>\n    <tr>\n      <th>73</th>\n      <td>73</td>\n      <td>NaN</td>\n      <td>100.0</td>\n      <td>1.015</td>\n      <td>2.0</td>\n      <td>0.0</td>\n      <td>abnormal</td>\n      <td>abnormal</td>\n      <td>notpresent</td>\n      <td>notpresent</td>\n      <td>...</td>\n      <td>14</td>\n      <td>6300</td>\n      <td>NaN</td>\n      <td>yes</td>\n      <td>no</td>\n      <td>no</td>\n      <td>good</td>\n      <td>yes</td>\n      <td>yes</td>\n      <td>ckd</td>\n    </tr>\n    <tr>\n      <th>112</th>\n      <td>112</td>\n      <td>NaN</td>\n      <td>60.0</td>\n      <td>1.015</td>\n      <td>3.0</td>\n      <td>0.0</td>\n      <td>abnormal</td>\n      <td>abnormal</td>\n      <td>notpresent</td>\n      <td>notpresent</td>\n      <td>...</td>\n      <td>33</td>\n      <td>NaN</td>\n      <td>NaN</td>\n      <td>no</td>\n      <td>no</td>\n      <td>no</td>\n      <td>good</td>\n      <td>no</td>\n      <td>no</td>\n      <td>ckd</td>\n    </tr>\n    <tr>\n      <th>116</th>\n      <td>116</td>\n      <td>NaN</td>\n      <td>70.0</td>\n      <td>1.015</td>\n      <td>4.0</td>\n      <td>0.0</td>\n      <td>abnormal</td>\n      <td>normal</td>\n      <td>notpresent</td>\n      <td>notpresent</td>\n      <td>...</td>\n      <td>NaN</td>\n      <td>NaN</td>\n      <td>NaN</td>\n      <td>no</td>\n      <td>no</td>\n      <td>no</td>\n      <td>good</td>\n      <td>yes</td>\n      <td>no</td>\n      <td>ckd</td>\n    </tr>\n    <tr>\n      <th>117</th>\n      <td>117</td>\n      <td>NaN</td>\n      <td>70.0</td>\n      <td>1.020</td>\n      <td>0.0</td>\n      <td>0.0</td>\n      <td>NaN</td>\n      <td>NaN</td>\n      <td>notpresent</td>\n      <td>notpresent</td>\n      <td>...</td>\n      <td>37</td>\n      <td>9800</td>\n      <td>4.4</td>\n      <td>no</td>\n      <td>no</td>\n      <td>no</td>\n      <td>good</td>\n      <td>no</td>\n      <td>no</td>\n      <td>ckd</td>\n    </tr>\n    <tr>\n      <th>169</th>\n      <td>169</td>\n      <td>NaN</td>\n      <td>70.0</td>\n      <td>1.010</td>\n      <td>0.0</td>\n      <td>2.0</td>\n      <td>NaN</td>\n      <td>normal</td>\n      <td>notpresent</td>\n      <td>notpresent</td>\n      <td>...</td>\n      <td>27</td>\n      <td>NaN</td>\n      <td>NaN</td>\n      <td>yes</td>\n      <td>yes</td>\n      <td>no</td>\n      <td>good</td>\n      <td>no</td>\n      <td>yes</td>\n      <td>ckd</td>\n    </tr>\n    <tr>\n      <th>191</th>\n      <td>191</td>\n      <td>NaN</td>\n      <td>70.0</td>\n      <td>1.010</td>\n      <td>3.0</td>\n      <td>0.0</td>\n      <td>normal</td>\n      <td>normal</td>\n      <td>notpresent</td>\n      <td>notpresent</td>\n      <td>...</td>\n      <td>26</td>\n      <td>9200</td>\n      <td>3.4</td>\n      <td>yes</td>\n      <td>yes</td>\n      <td>no</td>\n      <td>poor</td>\n      <td>no</td>\n      <td>no</td>\n      <td>ckd</td>\n    </tr>\n    <tr>\n      <th>203</th>\n      <td>203</td>\n      <td>NaN</td>\n      <td>90.0</td>\n      <td>NaN</td>\n      <td>NaN</td>\n      <td>NaN</td>\n      <td>NaN</td>\n      <td>NaN</td>\n      <td>notpresent</td>\n      <td>notpresent</td>\n      <td>...</td>\n      <td>NaN</td>\n      <td>NaN</td>\n      <td>NaN</td>\n      <td>yes</td>\n      <td>yes</td>\n      <td>no</td>\n      <td>good</td>\n      <td>no</td>\n      <td>yes</td>\n      <td>ckd</td>\n    </tr>\n    <tr>\n      <th>268</th>\n      <td>268</td>\n      <td>NaN</td>\n      <td>80.0</td>\n      <td>NaN</td>\n      <td>NaN</td>\n      <td>NaN</td>\n      <td>NaN</td>\n      <td>NaN</td>\n      <td>notpresent</td>\n      <td>notpresent</td>\n      <td>...</td>\n      <td>53</td>\n      <td>8500</td>\n      <td>4.9</td>\n      <td>no</td>\n      <td>no</td>\n      <td>no</td>\n      <td>good</td>\n      <td>no</td>\n      <td>no</td>\n      <td>notckd</td>\n    </tr>\n  </tbody>\n</table>\n<p>9 rows × 26 columns</p>\n</div>"
     },
     "metadata": {},
     "execution_count": 11
    }
   ],
   "source": [
    "kidney_df[kidney_df['age'].isna()]"
   ]
  },
  {
   "cell_type": "code",
   "execution_count": 12,
   "metadata": {},
   "outputs": [],
   "source": [
    "kidney_df = kidney_df[kidney_df['age'].notna()]\n",
    "kidney_df['age'] = kidney_df['age'].astype(int)"
   ]
  },
  {
   "cell_type": "code",
   "execution_count": 13,
   "metadata": {},
   "outputs": [],
   "source": [
    "kidney_df['blood_pressure'] = kidney_df['bp'].apply(lambda x: bp_to_cat(ap_lo=x))"
   ]
  },
  {
   "cell_type": "code",
   "execution_count": 14,
   "metadata": {},
   "outputs": [],
   "source": [
    "kidney_df['hypertension'] = kidney_df['blood_pressure'].apply(lambda x: 1 if x>=3 else 0)"
   ]
  },
  {
   "cell_type": "code",
   "execution_count": 15,
   "metadata": {},
   "outputs": [],
   "source": [
    "kidney_df['glucose'] = kidney_df['bgr'].apply(gluc_to_cat)"
   ]
  },
  {
   "cell_type": "code",
   "execution_count": 16,
   "metadata": {},
   "outputs": [],
   "source": [
    "kidney_df['diabetes'] = kidney_df['glucose'].apply(lambda x: 1 if x >= 2 else 0)"
   ]
  },
  {
   "cell_type": "code",
   "execution_count": 17,
   "metadata": {},
   "outputs": [],
   "source": [
    "yesno_to_bin = lambda x: 1 if x=='yes' else 0"
   ]
  },
  {
   "cell_type": "code",
   "execution_count": 18,
   "metadata": {},
   "outputs": [],
   "source": [
    "kidney_df['appetite'] = kidney_df['appet'].apply(yesno_to_bin)"
   ]
  },
  {
   "cell_type": "code",
   "execution_count": 19,
   "metadata": {},
   "outputs": [],
   "source": [
    "kidney_df['pedal_edema'] = kidney_df['pe'].apply(yesno_to_bin)"
   ]
  },
  {
   "cell_type": "code",
   "execution_count": 20,
   "metadata": {},
   "outputs": [],
   "source": [
    "kidney_df['anemia'] = kidney_df['ane'].apply(yesno_to_bin)"
   ]
  },
  {
   "cell_type": "code",
   "execution_count": 21,
   "metadata": {},
   "outputs": [],
   "source": [
    "kidney_df['cad'] = kidney_df['cad'].apply(yesno_to_bin)"
   ]
  },
  {
   "cell_type": "code",
   "execution_count": 22,
   "metadata": {},
   "outputs": [],
   "source": [
    "kidney_df['kidney_disease'] = kidney_df['classification'].apply(lambda x: 1 if x == 'notckd' else 0)"
   ]
  },
  {
   "cell_type": "code",
   "execution_count": 23,
   "metadata": {},
   "outputs": [
    {
     "output_type": "execute_result",
     "data": {
      "text/plain": [
       "   id  age    bp     sg   al   su     rbc        pc         pcc          ba  \\\n",
       "0   0   48  80.0  1.020  1.0  0.0     NaN    normal  notpresent  notpresent   \n",
       "1   1    7  50.0  1.020  4.0  0.0     NaN    normal  notpresent  notpresent   \n",
       "2   2   62  80.0  1.010  2.0  3.0  normal    normal  notpresent  notpresent   \n",
       "3   3   48  70.0  1.005  4.0  0.0  normal  abnormal     present  notpresent   \n",
       "4   4   51  80.0  1.010  2.0  0.0  normal    normal  notpresent  notpresent   \n",
       "\n",
       "   ...  ane  classification  blood_pressure  hypertension  glucose  diabetes  \\\n",
       "0  ...   no             ckd               1             0        1         0   \n",
       "1  ...   no             ckd               1             0        2         1   \n",
       "2  ...  yes             ckd               1             0        2         1   \n",
       "3  ...  yes             ckd               1             0        1         0   \n",
       "4  ...   no             ckd               1             0        1         0   \n",
       "\n",
       "  appetite pedal_edema anemia kidney_disease  \n",
       "0        0           0      0              0  \n",
       "1        0           0      0              0  \n",
       "2        0           0      1              0  \n",
       "3        0           1      1              0  \n",
       "4        0           0      0              0  \n",
       "\n",
       "[5 rows x 34 columns]"
      ],
      "text/html": "<div>\n<style scoped>\n    .dataframe tbody tr th:only-of-type {\n        vertical-align: middle;\n    }\n\n    .dataframe tbody tr th {\n        vertical-align: top;\n    }\n\n    .dataframe thead th {\n        text-align: right;\n    }\n</style>\n<table border=\"1\" class=\"dataframe\">\n  <thead>\n    <tr style=\"text-align: right;\">\n      <th></th>\n      <th>id</th>\n      <th>age</th>\n      <th>bp</th>\n      <th>sg</th>\n      <th>al</th>\n      <th>su</th>\n      <th>rbc</th>\n      <th>pc</th>\n      <th>pcc</th>\n      <th>ba</th>\n      <th>...</th>\n      <th>ane</th>\n      <th>classification</th>\n      <th>blood_pressure</th>\n      <th>hypertension</th>\n      <th>glucose</th>\n      <th>diabetes</th>\n      <th>appetite</th>\n      <th>pedal_edema</th>\n      <th>anemia</th>\n      <th>kidney_disease</th>\n    </tr>\n  </thead>\n  <tbody>\n    <tr>\n      <th>0</th>\n      <td>0</td>\n      <td>48</td>\n      <td>80.0</td>\n      <td>1.020</td>\n      <td>1.0</td>\n      <td>0.0</td>\n      <td>NaN</td>\n      <td>normal</td>\n      <td>notpresent</td>\n      <td>notpresent</td>\n      <td>...</td>\n      <td>no</td>\n      <td>ckd</td>\n      <td>1</td>\n      <td>0</td>\n      <td>1</td>\n      <td>0</td>\n      <td>0</td>\n      <td>0</td>\n      <td>0</td>\n      <td>0</td>\n    </tr>\n    <tr>\n      <th>1</th>\n      <td>1</td>\n      <td>7</td>\n      <td>50.0</td>\n      <td>1.020</td>\n      <td>4.0</td>\n      <td>0.0</td>\n      <td>NaN</td>\n      <td>normal</td>\n      <td>notpresent</td>\n      <td>notpresent</td>\n      <td>...</td>\n      <td>no</td>\n      <td>ckd</td>\n      <td>1</td>\n      <td>0</td>\n      <td>2</td>\n      <td>1</td>\n      <td>0</td>\n      <td>0</td>\n      <td>0</td>\n      <td>0</td>\n    </tr>\n    <tr>\n      <th>2</th>\n      <td>2</td>\n      <td>62</td>\n      <td>80.0</td>\n      <td>1.010</td>\n      <td>2.0</td>\n      <td>3.0</td>\n      <td>normal</td>\n      <td>normal</td>\n      <td>notpresent</td>\n      <td>notpresent</td>\n      <td>...</td>\n      <td>yes</td>\n      <td>ckd</td>\n      <td>1</td>\n      <td>0</td>\n      <td>2</td>\n      <td>1</td>\n      <td>0</td>\n      <td>0</td>\n      <td>1</td>\n      <td>0</td>\n    </tr>\n    <tr>\n      <th>3</th>\n      <td>3</td>\n      <td>48</td>\n      <td>70.0</td>\n      <td>1.005</td>\n      <td>4.0</td>\n      <td>0.0</td>\n      <td>normal</td>\n      <td>abnormal</td>\n      <td>present</td>\n      <td>notpresent</td>\n      <td>...</td>\n      <td>yes</td>\n      <td>ckd</td>\n      <td>1</td>\n      <td>0</td>\n      <td>1</td>\n      <td>0</td>\n      <td>0</td>\n      <td>1</td>\n      <td>1</td>\n      <td>0</td>\n    </tr>\n    <tr>\n      <th>4</th>\n      <td>4</td>\n      <td>51</td>\n      <td>80.0</td>\n      <td>1.010</td>\n      <td>2.0</td>\n      <td>0.0</td>\n      <td>normal</td>\n      <td>normal</td>\n      <td>notpresent</td>\n      <td>notpresent</td>\n      <td>...</td>\n      <td>no</td>\n      <td>ckd</td>\n      <td>1</td>\n      <td>0</td>\n      <td>1</td>\n      <td>0</td>\n      <td>0</td>\n      <td>0</td>\n      <td>0</td>\n      <td>0</td>\n    </tr>\n  </tbody>\n</table>\n<p>5 rows × 34 columns</p>\n</div>"
     },
     "metadata": {},
     "execution_count": 23
    }
   ],
   "source": [
    "kidney_df.head()"
   ]
  },
  {
   "cell_type": "code",
   "execution_count": 24,
   "metadata": {},
   "outputs": [
    {
     "output_type": "execute_result",
     "data": {
      "text/plain": [
       "Index(['id', 'age', 'bp', 'sg', 'al', 'su', 'rbc', 'pc', 'pcc', 'ba', 'bgr',\n",
       "       'bu', 'sc', 'sod', 'pot', 'hemo', 'pcv', 'wc', 'rc', 'htn', 'dm', 'cad',\n",
       "       'appet', 'pe', 'ane', 'classification', 'blood_pressure',\n",
       "       'hypertension', 'glucose', 'diabetes', 'appetite', 'pedal_edema',\n",
       "       'anemia', 'kidney_disease'],\n",
       "      dtype='object')"
      ]
     },
     "metadata": {},
     "execution_count": 24
    }
   ],
   "source": [
    "kidney_df.columns"
   ]
  },
  {
   "cell_type": "code",
   "execution_count": 25,
   "metadata": {},
   "outputs": [],
   "source": [
    "columns = ['age', 'cad', 'blood_pressure',\n",
    "       'hypertension', 'glucose', 'diabetes', 'appetite', 'pedal_edema',\n",
    "       'anemia', 'kidney_disease']\n",
    "kidney_df.to_csv(os.path.join(folder_preprocessed, \"kidney.csv\"), columns=columns)"
   ]
  },
  {
   "cell_type": "code",
   "execution_count": null,
   "metadata": {},
   "outputs": [],
   "source": []
  },
  {
   "source": [
    "## Ocular disease"
   ],
   "cell_type": "markdown",
   "metadata": {}
  },
  {
   "cell_type": "code",
   "execution_count": 108,
   "metadata": {},
   "outputs": [],
   "source": [
    "ocular_df = pd.read_csv(os.path.join(folder_raw, \"ocular_disease.csv\"))"
   ]
  },
  {
   "cell_type": "code",
   "execution_count": 109,
   "metadata": {},
   "outputs": [],
   "source": [
    "del ocular_df['filepath']\n",
    "del ocular_df['filename']\n",
    "del ocular_df['target']\n",
    "del ocular_df['labels']\n",
    "del ocular_df['Left-Fundus']\n",
    "del ocular_df['Right-Fundus']\n"
   ]
  },
  {
   "cell_type": "code",
   "execution_count": 110,
   "metadata": {},
   "outputs": [
    {
     "output_type": "execute_result",
     "data": {
      "text/plain": [
       "   ID  Patient Age Patient Sex  \\\n",
       "0   0           69      Female   \n",
       "1   1           57        Male   \n",
       "2   2           42        Male   \n",
       "3   4           53        Male   \n",
       "4   5           50      Female   \n",
       "\n",
       "                            Left-Diagnostic Keywords  \\\n",
       "0                                           cataract   \n",
       "1                                      normal fundus   \n",
       "2  laser spot，moderate non proliferative retinopathy   \n",
       "3                        macular epiretinal membrane   \n",
       "4             moderate non proliferative retinopathy   \n",
       "\n",
       "                Right-Diagnostic Keywords  N  D  G  C  A  H  M  O  \n",
       "0                           normal fundus  0  0  0  1  0  0  0  0  \n",
       "1                           normal fundus  1  0  0  0  0  0  0  0  \n",
       "2  moderate non proliferative retinopathy  0  1  0  0  0  0  0  1  \n",
       "3       mild nonproliferative retinopathy  0  1  0  0  0  0  0  1  \n",
       "4  moderate non proliferative retinopathy  0  1  0  0  0  0  0  0  "
      ],
      "text/html": "<div>\n<style scoped>\n    .dataframe tbody tr th:only-of-type {\n        vertical-align: middle;\n    }\n\n    .dataframe tbody tr th {\n        vertical-align: top;\n    }\n\n    .dataframe thead th {\n        text-align: right;\n    }\n</style>\n<table border=\"1\" class=\"dataframe\">\n  <thead>\n    <tr style=\"text-align: right;\">\n      <th></th>\n      <th>ID</th>\n      <th>Patient Age</th>\n      <th>Patient Sex</th>\n      <th>Left-Diagnostic Keywords</th>\n      <th>Right-Diagnostic Keywords</th>\n      <th>N</th>\n      <th>D</th>\n      <th>G</th>\n      <th>C</th>\n      <th>A</th>\n      <th>H</th>\n      <th>M</th>\n      <th>O</th>\n    </tr>\n  </thead>\n  <tbody>\n    <tr>\n      <th>0</th>\n      <td>0</td>\n      <td>69</td>\n      <td>Female</td>\n      <td>cataract</td>\n      <td>normal fundus</td>\n      <td>0</td>\n      <td>0</td>\n      <td>0</td>\n      <td>1</td>\n      <td>0</td>\n      <td>0</td>\n      <td>0</td>\n      <td>0</td>\n    </tr>\n    <tr>\n      <th>1</th>\n      <td>1</td>\n      <td>57</td>\n      <td>Male</td>\n      <td>normal fundus</td>\n      <td>normal fundus</td>\n      <td>1</td>\n      <td>0</td>\n      <td>0</td>\n      <td>0</td>\n      <td>0</td>\n      <td>0</td>\n      <td>0</td>\n      <td>0</td>\n    </tr>\n    <tr>\n      <th>2</th>\n      <td>2</td>\n      <td>42</td>\n      <td>Male</td>\n      <td>laser spot，moderate non proliferative retinopathy</td>\n      <td>moderate non proliferative retinopathy</td>\n      <td>0</td>\n      <td>1</td>\n      <td>0</td>\n      <td>0</td>\n      <td>0</td>\n      <td>0</td>\n      <td>0</td>\n      <td>1</td>\n    </tr>\n    <tr>\n      <th>3</th>\n      <td>4</td>\n      <td>53</td>\n      <td>Male</td>\n      <td>macular epiretinal membrane</td>\n      <td>mild nonproliferative retinopathy</td>\n      <td>0</td>\n      <td>1</td>\n      <td>0</td>\n      <td>0</td>\n      <td>0</td>\n      <td>0</td>\n      <td>0</td>\n      <td>1</td>\n    </tr>\n    <tr>\n      <th>4</th>\n      <td>5</td>\n      <td>50</td>\n      <td>Female</td>\n      <td>moderate non proliferative retinopathy</td>\n      <td>moderate non proliferative retinopathy</td>\n      <td>0</td>\n      <td>1</td>\n      <td>0</td>\n      <td>0</td>\n      <td>0</td>\n      <td>0</td>\n      <td>0</td>\n      <td>0</td>\n    </tr>\n  </tbody>\n</table>\n</div>"
     },
     "metadata": {},
     "execution_count": 110
    }
   ],
   "source": [
    "ocular_df.head()"
   ]
  },
  {
   "cell_type": "code",
   "execution_count": 111,
   "metadata": {},
   "outputs": [],
   "source": [
    "ocular_df['id'] = ocular_df['ID']"
   ]
  },
  {
   "cell_type": "code",
   "execution_count": 112,
   "metadata": {},
   "outputs": [],
   "source": [
    "ocular_df['age'] = ocular_df['Patient Age']"
   ]
  },
  {
   "cell_type": "code",
   "execution_count": 113,
   "metadata": {},
   "outputs": [],
   "source": [
    "ocular_df['gender'] = ocular_df['Patient Sex'].apply(lambda s: 0 if s=='Male' else 1)"
   ]
  },
  {
   "cell_type": "code",
   "execution_count": 114,
   "metadata": {},
   "outputs": [],
   "source": [
    "ocular_df.rename(columns={'D': 'diabetes', 'G': 'glaucoma', 'C': 'cataract', 'A': 'degeneration', 'M': 'myopia', 'O': 'other', 'H': 'hypertension', 'N': 'normal' }, inplace=True)\n"
   ]
  },
  {
   "cell_type": "code",
   "execution_count": 115,
   "metadata": {},
   "outputs": [],
   "source": [
    "columns = ['age', 'gender', 'normal', 'diabetes', 'glaucoma', 'cataract', 'hypertension', 'myopia', 'other']\n",
    "ocular_df.to_csv(os.path.join(folder_preprocessed, \"ocular.csv\"), columns=columns)"
   ]
  },
  {
   "cell_type": "code",
   "execution_count": null,
   "metadata": {},
   "outputs": [],
   "source": []
  },
  {
   "cell_type": "code",
   "execution_count": 116,
   "metadata": {},
   "outputs": [],
   "source": [
    "ocular_diagnostics = set()"
   ]
  },
  {
   "cell_type": "code",
   "execution_count": 117,
   "metadata": {},
   "outputs": [],
   "source": [
    "def add_keywords(diagnostics: str) -> None:\n",
    "    l = diagnostics.replace('，', ',').split(',')\n",
    "    for elem in l:\n",
    "        ocular_diagnostics.add(elem)"
   ]
  },
  {
   "cell_type": "code",
   "execution_count": 118,
   "metadata": {},
   "outputs": [],
   "source": [
    "ocular_df['Left-Diagnostic Keywords'].apply(add_keywords)\n",
    "ocular_df['Right-Diagnostic Keywords'].apply(add_keywords)\n",
    "pass"
   ]
  },
  {
   "cell_type": "code",
   "execution_count": 119,
   "metadata": {},
   "outputs": [],
   "source": [
    "ocular_diagnostics_df = pd.DataFrame.from_dict(ocular_diagnostics)"
   ]
  },
  {
   "cell_type": "code",
   "execution_count": 120,
   "metadata": {},
   "outputs": [],
   "source": [
    "ocular_diagnostics_df.index.names = ['id']\n",
    "ocular_diagnostics_df.rename(columns={0: 'diagnostic'}, inplace=True)"
   ]
  },
  {
   "cell_type": "code",
   "execution_count": 121,
   "metadata": {},
   "outputs": [],
   "source": [
    "eye_diagnostics = []"
   ]
  },
  {
   "cell_type": "code",
   "execution_count": 122,
   "metadata": {},
   "outputs": [],
   "source": [
    "for index, row in ocular_df.iterrows():\n",
    "    for diagnostic in row['Left-Diagnostic Keywords'].replace('，', ',').split(','):\n",
    "        diag_id = ocular_diagnostics_df.index[ocular_diagnostics_df['diagnostic'] == diagnostic][0]\n",
    "        eye_diagnostics.append({'case_id': index, 'diag_id': diag_id, 'eye': 0})\n",
    "    for diagnostic in row['Right-Diagnostic Keywords'].replace('，', ',').split(','):\n",
    "        diag_id = ocular_diagnostics_df.index[ocular_diagnostics_df['diagnostic'] == diagnostic][0]\n",
    "        eye_diagnostics.append({'case_id': index, 'diag_id': diag_id, 'eye': 1})"
   ]
  },
  {
   "cell_type": "code",
   "execution_count": 123,
   "metadata": {},
   "outputs": [
    {
     "output_type": "execute_result",
     "data": {
      "text/plain": [
       "14039"
      ]
     },
     "metadata": {},
     "execution_count": 123
    }
   ],
   "source": [
    "len(eye_diagnostics)"
   ]
  },
  {
   "cell_type": "code",
   "execution_count": 124,
   "metadata": {},
   "outputs": [],
   "source": [
    "eye_diagnostics = pd.DataFrame(eye_diagnostics)"
   ]
  },
  {
   "cell_type": "code",
   "execution_count": 125,
   "metadata": {},
   "outputs": [
    {
     "output_type": "execute_result",
     "data": {
      "text/plain": [
       "                                diagnostic\n",
       "id                                        \n",
       "0   retinal pigment epithelial hypertrophy\n",
       "1       proliferative diabetic retinopathy\n",
       "2         central serous chorioretinopathy\n",
       "3                 hypertensive retinopathy\n",
       "4         pigment epithelium proliferation"
      ],
      "text/html": "<div>\n<style scoped>\n    .dataframe tbody tr th:only-of-type {\n        vertical-align: middle;\n    }\n\n    .dataframe tbody tr th {\n        vertical-align: top;\n    }\n\n    .dataframe thead th {\n        text-align: right;\n    }\n</style>\n<table border=\"1\" class=\"dataframe\">\n  <thead>\n    <tr style=\"text-align: right;\">\n      <th></th>\n      <th>diagnostic</th>\n    </tr>\n    <tr>\n      <th>id</th>\n      <th></th>\n    </tr>\n  </thead>\n  <tbody>\n    <tr>\n      <th>0</th>\n      <td>retinal pigment epithelial hypertrophy</td>\n    </tr>\n    <tr>\n      <th>1</th>\n      <td>proliferative diabetic retinopathy</td>\n    </tr>\n    <tr>\n      <th>2</th>\n      <td>central serous chorioretinopathy</td>\n    </tr>\n    <tr>\n      <th>3</th>\n      <td>hypertensive retinopathy</td>\n    </tr>\n    <tr>\n      <th>4</th>\n      <td>pigment epithelium proliferation</td>\n    </tr>\n  </tbody>\n</table>\n</div>"
     },
     "metadata": {},
     "execution_count": 125
    }
   ],
   "source": [
    "ocular_diagnostics_df.to_csv(os.path.join(folder_preprocessed, \"ocular_diag_keywords.csv\"))\n",
    "ocular_diagnostics_df.head()"
   ]
  },
  {
   "cell_type": "code",
   "execution_count": 126,
   "metadata": {},
   "outputs": [
    {
     "output_type": "execute_result",
     "data": {
      "text/plain": [
       "   case_id  diag_id  eye\n",
       "0        0       91    0\n",
       "1        0       61    1\n",
       "2        1       61    0\n",
       "3        1       61    1\n",
       "4        2       19    0"
      ],
      "text/html": "<div>\n<style scoped>\n    .dataframe tbody tr th:only-of-type {\n        vertical-align: middle;\n    }\n\n    .dataframe tbody tr th {\n        vertical-align: top;\n    }\n\n    .dataframe thead th {\n        text-align: right;\n    }\n</style>\n<table border=\"1\" class=\"dataframe\">\n  <thead>\n    <tr style=\"text-align: right;\">\n      <th></th>\n      <th>case_id</th>\n      <th>diag_id</th>\n      <th>eye</th>\n    </tr>\n  </thead>\n  <tbody>\n    <tr>\n      <th>0</th>\n      <td>0</td>\n      <td>91</td>\n      <td>0</td>\n    </tr>\n    <tr>\n      <th>1</th>\n      <td>0</td>\n      <td>61</td>\n      <td>1</td>\n    </tr>\n    <tr>\n      <th>2</th>\n      <td>1</td>\n      <td>61</td>\n      <td>0</td>\n    </tr>\n    <tr>\n      <th>3</th>\n      <td>1</td>\n      <td>61</td>\n      <td>1</td>\n    </tr>\n    <tr>\n      <th>4</th>\n      <td>2</td>\n      <td>19</td>\n      <td>0</td>\n    </tr>\n  </tbody>\n</table>\n</div>"
     },
     "metadata": {},
     "execution_count": 126
    }
   ],
   "source": [
    "eye_diagnostics.to_csv(os.path.join(folder_preprocessed, \"eye_diagnostics.csv\"))\n",
    "eye_diagnostics.head()"
   ]
  },
  {
   "cell_type": "code",
   "execution_count": null,
   "metadata": {},
   "outputs": [],
   "source": []
  },
  {
   "source": [
    "## India Covid"
   ],
   "cell_type": "markdown",
   "metadata": {}
  },
  {
   "cell_type": "code",
   "execution_count": 131,
   "metadata": {},
   "outputs": [],
   "source": [
    "covid_india_df = pd.read_csv(os.path.join(folder_raw, \"covid_19_india.csv\"))"
   ]
  },
  {
   "cell_type": "code",
   "execution_count": 132,
   "metadata": {},
   "outputs": [],
   "source": [
    "del covid_india_df['Time']\n",
    "del covid_india_df['Sno']"
   ]
  },
  {
   "cell_type": "code",
   "execution_count": 133,
   "metadata": {},
   "outputs": [
    {
     "output_type": "execute_result",
     "data": {
      "text/plain": [
       "       Date State/UnionTerritory ConfirmedIndianNational  \\\n",
       "0  30/01/20               Kerala                       1   \n",
       "1  31/01/20               Kerala                       1   \n",
       "2  01/02/20               Kerala                       2   \n",
       "3  02/02/20               Kerala                       3   \n",
       "4  03/02/20               Kerala                       3   \n",
       "\n",
       "  ConfirmedForeignNational  Cured  Deaths  Confirmed  \n",
       "0                        0      0       0          1  \n",
       "1                        0      0       0          1  \n",
       "2                        0      0       0          2  \n",
       "3                        0      0       0          3  \n",
       "4                        0      0       0          3  "
      ],
      "text/html": "<div>\n<style scoped>\n    .dataframe tbody tr th:only-of-type {\n        vertical-align: middle;\n    }\n\n    .dataframe tbody tr th {\n        vertical-align: top;\n    }\n\n    .dataframe thead th {\n        text-align: right;\n    }\n</style>\n<table border=\"1\" class=\"dataframe\">\n  <thead>\n    <tr style=\"text-align: right;\">\n      <th></th>\n      <th>Date</th>\n      <th>State/UnionTerritory</th>\n      <th>ConfirmedIndianNational</th>\n      <th>ConfirmedForeignNational</th>\n      <th>Cured</th>\n      <th>Deaths</th>\n      <th>Confirmed</th>\n    </tr>\n  </thead>\n  <tbody>\n    <tr>\n      <th>0</th>\n      <td>30/01/20</td>\n      <td>Kerala</td>\n      <td>1</td>\n      <td>0</td>\n      <td>0</td>\n      <td>0</td>\n      <td>1</td>\n    </tr>\n    <tr>\n      <th>1</th>\n      <td>31/01/20</td>\n      <td>Kerala</td>\n      <td>1</td>\n      <td>0</td>\n      <td>0</td>\n      <td>0</td>\n      <td>1</td>\n    </tr>\n    <tr>\n      <th>2</th>\n      <td>01/02/20</td>\n      <td>Kerala</td>\n      <td>2</td>\n      <td>0</td>\n      <td>0</td>\n      <td>0</td>\n      <td>2</td>\n    </tr>\n    <tr>\n      <th>3</th>\n      <td>02/02/20</td>\n      <td>Kerala</td>\n      <td>3</td>\n      <td>0</td>\n      <td>0</td>\n      <td>0</td>\n      <td>3</td>\n    </tr>\n    <tr>\n      <th>4</th>\n      <td>03/02/20</td>\n      <td>Kerala</td>\n      <td>3</td>\n      <td>0</td>\n      <td>0</td>\n      <td>0</td>\n      <td>3</td>\n    </tr>\n  </tbody>\n</table>\n</div>"
     },
     "metadata": {},
     "execution_count": 133
    }
   ],
   "source": [
    "covid_india_df.head()"
   ]
  },
  {
   "cell_type": "code",
   "execution_count": 134,
   "metadata": {},
   "outputs": [],
   "source": [
    "covid_india_df.rename(columns={'Date': 'date', 'State/UnionTerritory': 'state', 'ConfirmedIndianNational': 'indians',\n",
    " 'ConfirmedForeignNational': 'foreigns', 'Cured': 'cured', 'Deaths': 'deaths', 'Confirmed': 'confirmed'}, inplace=True)"
   ]
  },
  {
   "cell_type": "code",
   "execution_count": 135,
   "metadata": {},
   "outputs": [],
   "source": [
    "def dmy_to_iso(date: str) -> str:\n",
    "    d, m, y = date.split('/')\n",
    "    return f'20{y}-{m}-{d}'"
   ]
  },
  {
   "cell_type": "code",
   "execution_count": 136,
   "metadata": {},
   "outputs": [],
   "source": [
    "covid_india_df['date'] = covid_india_df['date'].apply(dmy_to_iso)"
   ]
  },
  {
   "cell_type": "code",
   "execution_count": 137,
   "metadata": {},
   "outputs": [
    {
     "output_type": "execute_result",
     "data": {
      "text/plain": [
       "           state\n",
       "0         Kerala\n",
       "1      Telengana\n",
       "2          Delhi\n",
       "3      Rajasthan\n",
       "4  Uttar Pradesh"
      ],
      "text/html": "<div>\n<style scoped>\n    .dataframe tbody tr th:only-of-type {\n        vertical-align: middle;\n    }\n\n    .dataframe tbody tr th {\n        vertical-align: top;\n    }\n\n    .dataframe thead th {\n        text-align: right;\n    }\n</style>\n<table border=\"1\" class=\"dataframe\">\n  <thead>\n    <tr style=\"text-align: right;\">\n      <th></th>\n      <th>state</th>\n    </tr>\n  </thead>\n  <tbody>\n    <tr>\n      <th>0</th>\n      <td>Kerala</td>\n    </tr>\n    <tr>\n      <th>1</th>\n      <td>Telengana</td>\n    </tr>\n    <tr>\n      <th>2</th>\n      <td>Delhi</td>\n    </tr>\n    <tr>\n      <th>3</th>\n      <td>Rajasthan</td>\n    </tr>\n    <tr>\n      <th>4</th>\n      <td>Uttar Pradesh</td>\n    </tr>\n  </tbody>\n</table>\n</div>"
     },
     "metadata": {},
     "execution_count": 137
    }
   ],
   "source": [
    "indian_states = pd.DataFrame(covid_india_df['state'].unique())\n",
    "indian_states.rename(columns={0:'state'}, inplace=True)\n",
    "indian_states.to_csv(os.path.join(folder_preprocessed, \"indian_states.csv\"))\n",
    "indian_states.head()"
   ]
  },
  {
   "cell_type": "code",
   "execution_count": 138,
   "metadata": {},
   "outputs": [],
   "source": [
    "covid_india_df['state'] = covid_india_df['state'].map(lambda state: indian_states.index[indian_states['state'] == state][0])"
   ]
  },
  {
   "cell_type": "code",
   "execution_count": 139,
   "metadata": {},
   "outputs": [
    {
     "output_type": "execute_result",
     "data": {
      "text/plain": [
       "            date  state indians foreigns   cured  deaths  confirmed\n",
       "0     2020-01-30      0       1        0       0       0          1\n",
       "1     2020-01-31      0       1        0       0       0          1\n",
       "2     2020-02-01      0       2        0       0       0          2\n",
       "3     2020-02-02      0       3        0       0       0          3\n",
       "4     2020-02-03      0       3        0       0       0          3\n",
       "...          ...    ...     ...      ...     ...     ...        ...\n",
       "9286  2020-12-09      1       -        -  266120    1480     275261\n",
       "9287  2020-12-09     31       -        -   32169     373      32945\n",
       "9288  2020-12-09     13       -        -   72435    1307      79141\n",
       "9289  2020-12-09      4       -        -  528832    7967     558173\n",
       "9290  2020-12-09     16       -        -  475425    8820     507995\n",
       "\n",
       "[9291 rows x 7 columns]"
      ],
      "text/html": "<div>\n<style scoped>\n    .dataframe tbody tr th:only-of-type {\n        vertical-align: middle;\n    }\n\n    .dataframe tbody tr th {\n        vertical-align: top;\n    }\n\n    .dataframe thead th {\n        text-align: right;\n    }\n</style>\n<table border=\"1\" class=\"dataframe\">\n  <thead>\n    <tr style=\"text-align: right;\">\n      <th></th>\n      <th>date</th>\n      <th>state</th>\n      <th>indians</th>\n      <th>foreigns</th>\n      <th>cured</th>\n      <th>deaths</th>\n      <th>confirmed</th>\n    </tr>\n  </thead>\n  <tbody>\n    <tr>\n      <th>0</th>\n      <td>2020-01-30</td>\n      <td>0</td>\n      <td>1</td>\n      <td>0</td>\n      <td>0</td>\n      <td>0</td>\n      <td>1</td>\n    </tr>\n    <tr>\n      <th>1</th>\n      <td>2020-01-31</td>\n      <td>0</td>\n      <td>1</td>\n      <td>0</td>\n      <td>0</td>\n      <td>0</td>\n      <td>1</td>\n    </tr>\n    <tr>\n      <th>2</th>\n      <td>2020-02-01</td>\n      <td>0</td>\n      <td>2</td>\n      <td>0</td>\n      <td>0</td>\n      <td>0</td>\n      <td>2</td>\n    </tr>\n    <tr>\n      <th>3</th>\n      <td>2020-02-02</td>\n      <td>0</td>\n      <td>3</td>\n      <td>0</td>\n      <td>0</td>\n      <td>0</td>\n      <td>3</td>\n    </tr>\n    <tr>\n      <th>4</th>\n      <td>2020-02-03</td>\n      <td>0</td>\n      <td>3</td>\n      <td>0</td>\n      <td>0</td>\n      <td>0</td>\n      <td>3</td>\n    </tr>\n    <tr>\n      <th>...</th>\n      <td>...</td>\n      <td>...</td>\n      <td>...</td>\n      <td>...</td>\n      <td>...</td>\n      <td>...</td>\n      <td>...</td>\n    </tr>\n    <tr>\n      <th>9286</th>\n      <td>2020-12-09</td>\n      <td>1</td>\n      <td>-</td>\n      <td>-</td>\n      <td>266120</td>\n      <td>1480</td>\n      <td>275261</td>\n    </tr>\n    <tr>\n      <th>9287</th>\n      <td>2020-12-09</td>\n      <td>31</td>\n      <td>-</td>\n      <td>-</td>\n      <td>32169</td>\n      <td>373</td>\n      <td>32945</td>\n    </tr>\n    <tr>\n      <th>9288</th>\n      <td>2020-12-09</td>\n      <td>13</td>\n      <td>-</td>\n      <td>-</td>\n      <td>72435</td>\n      <td>1307</td>\n      <td>79141</td>\n    </tr>\n    <tr>\n      <th>9289</th>\n      <td>2020-12-09</td>\n      <td>4</td>\n      <td>-</td>\n      <td>-</td>\n      <td>528832</td>\n      <td>7967</td>\n      <td>558173</td>\n    </tr>\n    <tr>\n      <th>9290</th>\n      <td>2020-12-09</td>\n      <td>16</td>\n      <td>-</td>\n      <td>-</td>\n      <td>475425</td>\n      <td>8820</td>\n      <td>507995</td>\n    </tr>\n  </tbody>\n</table>\n<p>9291 rows × 7 columns</p>\n</div>"
     },
     "metadata": {},
     "execution_count": 139
    }
   ],
   "source": [
    "covid_india_df.to_csv(os.path.join(folder_preprocessed, \"covid_india.csv\"))\n",
    "covid_india_df"
   ]
  },
  {
   "cell_type": "code",
   "execution_count": null,
   "metadata": {},
   "outputs": [],
   "source": []
  },
  {
   "source": [
    "## Covid Italy"
   ],
   "cell_type": "markdown",
   "metadata": {}
  },
  {
   "cell_type": "code",
   "execution_count": 76,
   "metadata": {},
   "outputs": [],
   "source": [
    "covid_italy_df = ocular_df = pd.read_csv(os.path.join(folder_raw, \"covid19_italy_province.csv\"))"
   ]
  },
  {
   "cell_type": "code",
   "execution_count": 77,
   "metadata": {},
   "outputs": [],
   "source": [
    "del covid_italy_df['Country']\n",
    "covid_italy_df.rename(columns={'TotalPositiveCases': 'cases'}, inplace=True)"
   ]
  },
  {
   "cell_type": "code",
   "execution_count": 78,
   "metadata": {},
   "outputs": [
    {
     "output_type": "execute_result",
     "data": {
      "text/plain": [
       "   SNo                 Date  RegionCode RegionName  ProvinceCode  \\\n",
       "0    0  2020-02-24T18:00:00          13    Abruzzo            66   \n",
       "1    1  2020-02-24T18:00:00          13    Abruzzo            67   \n",
       "2    2  2020-02-24T18:00:00          13    Abruzzo            68   \n",
       "3    3  2020-02-24T18:00:00          13    Abruzzo            69   \n",
       "4    4  2020-02-24T18:00:00          13    Abruzzo           979   \n",
       "\n",
       "                           ProvinceName ProvinceAbbreviation   Latitude  \\\n",
       "0                              L'Aquila                   AQ  42.351222   \n",
       "1                                Teramo                   TE  42.658918   \n",
       "2                               Pescara                   PE  42.464584   \n",
       "3                                Chieti                   CH  42.351032   \n",
       "4  In fase di definizione/aggiornamento                  NaN        NaN   \n",
       "\n",
       "   Longitude  cases  \n",
       "0  13.398438      0  \n",
       "1  13.704400      0  \n",
       "2  14.213648      0  \n",
       "3  14.167546      0  \n",
       "4        NaN      0  "
      ],
      "text/html": "<div>\n<style scoped>\n    .dataframe tbody tr th:only-of-type {\n        vertical-align: middle;\n    }\n\n    .dataframe tbody tr th {\n        vertical-align: top;\n    }\n\n    .dataframe thead th {\n        text-align: right;\n    }\n</style>\n<table border=\"1\" class=\"dataframe\">\n  <thead>\n    <tr style=\"text-align: right;\">\n      <th></th>\n      <th>SNo</th>\n      <th>Date</th>\n      <th>RegionCode</th>\n      <th>RegionName</th>\n      <th>ProvinceCode</th>\n      <th>ProvinceName</th>\n      <th>ProvinceAbbreviation</th>\n      <th>Latitude</th>\n      <th>Longitude</th>\n      <th>cases</th>\n    </tr>\n  </thead>\n  <tbody>\n    <tr>\n      <th>0</th>\n      <td>0</td>\n      <td>2020-02-24T18:00:00</td>\n      <td>13</td>\n      <td>Abruzzo</td>\n      <td>66</td>\n      <td>L'Aquila</td>\n      <td>AQ</td>\n      <td>42.351222</td>\n      <td>13.398438</td>\n      <td>0</td>\n    </tr>\n    <tr>\n      <th>1</th>\n      <td>1</td>\n      <td>2020-02-24T18:00:00</td>\n      <td>13</td>\n      <td>Abruzzo</td>\n      <td>67</td>\n      <td>Teramo</td>\n      <td>TE</td>\n      <td>42.658918</td>\n      <td>13.704400</td>\n      <td>0</td>\n    </tr>\n    <tr>\n      <th>2</th>\n      <td>2</td>\n      <td>2020-02-24T18:00:00</td>\n      <td>13</td>\n      <td>Abruzzo</td>\n      <td>68</td>\n      <td>Pescara</td>\n      <td>PE</td>\n      <td>42.464584</td>\n      <td>14.213648</td>\n      <td>0</td>\n    </tr>\n    <tr>\n      <th>3</th>\n      <td>3</td>\n      <td>2020-02-24T18:00:00</td>\n      <td>13</td>\n      <td>Abruzzo</td>\n      <td>69</td>\n      <td>Chieti</td>\n      <td>CH</td>\n      <td>42.351032</td>\n      <td>14.167546</td>\n      <td>0</td>\n    </tr>\n    <tr>\n      <th>4</th>\n      <td>4</td>\n      <td>2020-02-24T18:00:00</td>\n      <td>13</td>\n      <td>Abruzzo</td>\n      <td>979</td>\n      <td>In fase di definizione/aggiornamento</td>\n      <td>NaN</td>\n      <td>NaN</td>\n      <td>NaN</td>\n      <td>0</td>\n    </tr>\n  </tbody>\n</table>\n</div>"
     },
     "metadata": {},
     "execution_count": 78
    }
   ],
   "source": [
    "covid_italy_df.head()"
   ]
  },
  {
   "cell_type": "code",
   "execution_count": 79,
   "metadata": {},
   "outputs": [
    {
     "output_type": "execute_result",
     "data": {
      "text/plain": [
       "   sno                 date  regioncode regionname  provincecode  \\\n",
       "0    0  2020-02-24T18:00:00          13    Abruzzo            66   \n",
       "1    1  2020-02-24T18:00:00          13    Abruzzo            67   \n",
       "2    2  2020-02-24T18:00:00          13    Abruzzo            68   \n",
       "3    3  2020-02-24T18:00:00          13    Abruzzo            69   \n",
       "4    4  2020-02-24T18:00:00          13    Abruzzo           979   \n",
       "\n",
       "                           provincename provinceabbreviation   latitude  \\\n",
       "0                              L'Aquila                   AQ  42.351222   \n",
       "1                                Teramo                   TE  42.658918   \n",
       "2                               Pescara                   PE  42.464584   \n",
       "3                                Chieti                   CH  42.351032   \n",
       "4  In fase di definizione/aggiornamento                  NaN        NaN   \n",
       "\n",
       "   longitude  cases  \n",
       "0  13.398438      0  \n",
       "1  13.704400      0  \n",
       "2  14.213648      0  \n",
       "3  14.167546      0  \n",
       "4        NaN      0  "
      ],
      "text/html": "<div>\n<style scoped>\n    .dataframe tbody tr th:only-of-type {\n        vertical-align: middle;\n    }\n\n    .dataframe tbody tr th {\n        vertical-align: top;\n    }\n\n    .dataframe thead th {\n        text-align: right;\n    }\n</style>\n<table border=\"1\" class=\"dataframe\">\n  <thead>\n    <tr style=\"text-align: right;\">\n      <th></th>\n      <th>sno</th>\n      <th>date</th>\n      <th>regioncode</th>\n      <th>regionname</th>\n      <th>provincecode</th>\n      <th>provincename</th>\n      <th>provinceabbreviation</th>\n      <th>latitude</th>\n      <th>longitude</th>\n      <th>cases</th>\n    </tr>\n  </thead>\n  <tbody>\n    <tr>\n      <th>0</th>\n      <td>0</td>\n      <td>2020-02-24T18:00:00</td>\n      <td>13</td>\n      <td>Abruzzo</td>\n      <td>66</td>\n      <td>L'Aquila</td>\n      <td>AQ</td>\n      <td>42.351222</td>\n      <td>13.398438</td>\n      <td>0</td>\n    </tr>\n    <tr>\n      <th>1</th>\n      <td>1</td>\n      <td>2020-02-24T18:00:00</td>\n      <td>13</td>\n      <td>Abruzzo</td>\n      <td>67</td>\n      <td>Teramo</td>\n      <td>TE</td>\n      <td>42.658918</td>\n      <td>13.704400</td>\n      <td>0</td>\n    </tr>\n    <tr>\n      <th>2</th>\n      <td>2</td>\n      <td>2020-02-24T18:00:00</td>\n      <td>13</td>\n      <td>Abruzzo</td>\n      <td>68</td>\n      <td>Pescara</td>\n      <td>PE</td>\n      <td>42.464584</td>\n      <td>14.213648</td>\n      <td>0</td>\n    </tr>\n    <tr>\n      <th>3</th>\n      <td>3</td>\n      <td>2020-02-24T18:00:00</td>\n      <td>13</td>\n      <td>Abruzzo</td>\n      <td>69</td>\n      <td>Chieti</td>\n      <td>CH</td>\n      <td>42.351032</td>\n      <td>14.167546</td>\n      <td>0</td>\n    </tr>\n    <tr>\n      <th>4</th>\n      <td>4</td>\n      <td>2020-02-24T18:00:00</td>\n      <td>13</td>\n      <td>Abruzzo</td>\n      <td>979</td>\n      <td>In fase di definizione/aggiornamento</td>\n      <td>NaN</td>\n      <td>NaN</td>\n      <td>NaN</td>\n      <td>0</td>\n    </tr>\n  </tbody>\n</table>\n</div>"
     },
     "metadata": {},
     "execution_count": 79
    }
   ],
   "source": [
    "covid_italy_df.columns = covid_italy_df.columns.str.lower()\n",
    "covid_italy_df.head()"
   ]
  },
  {
   "cell_type": "code",
   "execution_count": 80,
   "metadata": {},
   "outputs": [],
   "source": [
    "covid_italy_df['date'] = covid_italy_df['date'].apply(lambda s: s.split('T')[0])"
   ]
  },
  {
   "cell_type": "code",
   "execution_count": 81,
   "metadata": {},
   "outputs": [
    {
     "output_type": "execute_result",
     "data": {
      "text/plain": [
       "           region\n",
       "0         Abruzzo\n",
       "1      Basilicata\n",
       "2        Calabria\n",
       "3        Campania\n",
       "4  Emilia-Romagna"
      ],
      "text/html": "<div>\n<style scoped>\n    .dataframe tbody tr th:only-of-type {\n        vertical-align: middle;\n    }\n\n    .dataframe tbody tr th {\n        vertical-align: top;\n    }\n\n    .dataframe thead th {\n        text-align: right;\n    }\n</style>\n<table border=\"1\" class=\"dataframe\">\n  <thead>\n    <tr style=\"text-align: right;\">\n      <th></th>\n      <th>region</th>\n    </tr>\n  </thead>\n  <tbody>\n    <tr>\n      <th>0</th>\n      <td>Abruzzo</td>\n    </tr>\n    <tr>\n      <th>1</th>\n      <td>Basilicata</td>\n    </tr>\n    <tr>\n      <th>2</th>\n      <td>Calabria</td>\n    </tr>\n    <tr>\n      <th>3</th>\n      <td>Campania</td>\n    </tr>\n    <tr>\n      <th>4</th>\n      <td>Emilia-Romagna</td>\n    </tr>\n  </tbody>\n</table>\n</div>"
     },
     "metadata": {},
     "execution_count": 81
    }
   ],
   "source": [
    "italy_regions = pd.DataFrame(covid_italy_df['regionname'].unique())\n",
    "italy_regions.rename(columns={0:'region'}, inplace=True)\n",
    "italy_regions.to_csv(os.path.join(folder_preprocessed, \"italy_regions.csv\"))\n",
    "italy_regions.head()"
   ]
  },
  {
   "cell_type": "code",
   "execution_count": 82,
   "metadata": {},
   "outputs": [],
   "source": [
    "provinces_unique = set()\n",
    "provinces = []\n",
    "\n",
    "for index, row in covid_italy_df.iterrows():\n",
    "    if row['provincename'] in provinces_unique:\n",
    "        continue\n",
    "    region_code = italy_regions.index[italy_regions['region'] == row['regionname']][0]\n",
    "    province_name = row['provincename']\n",
    "    province_abbr = row['provinceabbreviation']\n",
    "\n",
    "    provinces.append({\"region\": region_code, \"province\": province_name, \"abbreviation\": province_abbr})\n"
   ]
  },
  {
   "cell_type": "code",
   "execution_count": 127,
   "metadata": {},
   "outputs": [
    {
     "output_type": "execute_result",
     "data": {
      "text/plain": [
       "   region                              province abbreviation\n",
       "0       0                              L'Aquila           AQ\n",
       "1       0                                Teramo           TE\n",
       "2       0                               Pescara           PE\n",
       "3       0                                Chieti           CH\n",
       "4       0  In fase di definizione/aggiornamento          NaN"
      ],
      "text/html": "<div>\n<style scoped>\n    .dataframe tbody tr th:only-of-type {\n        vertical-align: middle;\n    }\n\n    .dataframe tbody tr th {\n        vertical-align: top;\n    }\n\n    .dataframe thead th {\n        text-align: right;\n    }\n</style>\n<table border=\"1\" class=\"dataframe\">\n  <thead>\n    <tr style=\"text-align: right;\">\n      <th></th>\n      <th>region</th>\n      <th>province</th>\n      <th>abbreviation</th>\n    </tr>\n  </thead>\n  <tbody>\n    <tr>\n      <th>0</th>\n      <td>0</td>\n      <td>L'Aquila</td>\n      <td>AQ</td>\n    </tr>\n    <tr>\n      <th>1</th>\n      <td>0</td>\n      <td>Teramo</td>\n      <td>TE</td>\n    </tr>\n    <tr>\n      <th>2</th>\n      <td>0</td>\n      <td>Pescara</td>\n      <td>PE</td>\n    </tr>\n    <tr>\n      <th>3</th>\n      <td>0</td>\n      <td>Chieti</td>\n      <td>CH</td>\n    </tr>\n    <tr>\n      <th>4</th>\n      <td>0</td>\n      <td>In fase di definizione/aggiornamento</td>\n      <td>NaN</td>\n    </tr>\n  </tbody>\n</table>\n</div>"
     },
     "metadata": {},
     "execution_count": 127
    }
   ],
   "source": [
    "provinces_df = pd.DataFrame(provinces)\n",
    "provinces_df.to_csv(os.path.join(folder_preprocessed, \"italy_provinces.csv\"))\n",
    "provinces_df.head()"
   ]
  },
  {
   "cell_type": "code",
   "execution_count": 84,
   "metadata": {},
   "outputs": [],
   "source": [
    "covid_italy_df['province'] = covid_italy_df['provincename'].apply(lambda x: provinces_df.index[provinces_df['province'] == x][0])"
   ]
  },
  {
   "cell_type": "code",
   "execution_count": 85,
   "metadata": {},
   "outputs": [
    {
     "output_type": "execute_result",
     "data": {
      "text/plain": [
       "   sno        date  regioncode regionname  provincecode  \\\n",
       "0    0  2020-02-24          13    Abruzzo            66   \n",
       "1    1  2020-02-24          13    Abruzzo            67   \n",
       "2    2  2020-02-24          13    Abruzzo            68   \n",
       "3    3  2020-02-24          13    Abruzzo            69   \n",
       "4    4  2020-02-24          13    Abruzzo           979   \n",
       "\n",
       "                           provincename provinceabbreviation   latitude  \\\n",
       "0                              L'Aquila                   AQ  42.351222   \n",
       "1                                Teramo                   TE  42.658918   \n",
       "2                               Pescara                   PE  42.464584   \n",
       "3                                Chieti                   CH  42.351032   \n",
       "4  In fase di definizione/aggiornamento                  NaN        NaN   \n",
       "\n",
       "   longitude  cases  province  \n",
       "0  13.398438      0         0  \n",
       "1  13.704400      0         1  \n",
       "2  14.213648      0         2  \n",
       "3  14.167546      0         3  \n",
       "4        NaN      0         4  "
      ],
      "text/html": "<div>\n<style scoped>\n    .dataframe tbody tr th:only-of-type {\n        vertical-align: middle;\n    }\n\n    .dataframe tbody tr th {\n        vertical-align: top;\n    }\n\n    .dataframe thead th {\n        text-align: right;\n    }\n</style>\n<table border=\"1\" class=\"dataframe\">\n  <thead>\n    <tr style=\"text-align: right;\">\n      <th></th>\n      <th>sno</th>\n      <th>date</th>\n      <th>regioncode</th>\n      <th>regionname</th>\n      <th>provincecode</th>\n      <th>provincename</th>\n      <th>provinceabbreviation</th>\n      <th>latitude</th>\n      <th>longitude</th>\n      <th>cases</th>\n      <th>province</th>\n    </tr>\n  </thead>\n  <tbody>\n    <tr>\n      <th>0</th>\n      <td>0</td>\n      <td>2020-02-24</td>\n      <td>13</td>\n      <td>Abruzzo</td>\n      <td>66</td>\n      <td>L'Aquila</td>\n      <td>AQ</td>\n      <td>42.351222</td>\n      <td>13.398438</td>\n      <td>0</td>\n      <td>0</td>\n    </tr>\n    <tr>\n      <th>1</th>\n      <td>1</td>\n      <td>2020-02-24</td>\n      <td>13</td>\n      <td>Abruzzo</td>\n      <td>67</td>\n      <td>Teramo</td>\n      <td>TE</td>\n      <td>42.658918</td>\n      <td>13.704400</td>\n      <td>0</td>\n      <td>1</td>\n    </tr>\n    <tr>\n      <th>2</th>\n      <td>2</td>\n      <td>2020-02-24</td>\n      <td>13</td>\n      <td>Abruzzo</td>\n      <td>68</td>\n      <td>Pescara</td>\n      <td>PE</td>\n      <td>42.464584</td>\n      <td>14.213648</td>\n      <td>0</td>\n      <td>2</td>\n    </tr>\n    <tr>\n      <th>3</th>\n      <td>3</td>\n      <td>2020-02-24</td>\n      <td>13</td>\n      <td>Abruzzo</td>\n      <td>69</td>\n      <td>Chieti</td>\n      <td>CH</td>\n      <td>42.351032</td>\n      <td>14.167546</td>\n      <td>0</td>\n      <td>3</td>\n    </tr>\n    <tr>\n      <th>4</th>\n      <td>4</td>\n      <td>2020-02-24</td>\n      <td>13</td>\n      <td>Abruzzo</td>\n      <td>979</td>\n      <td>In fase di definizione/aggiornamento</td>\n      <td>NaN</td>\n      <td>NaN</td>\n      <td>NaN</td>\n      <td>0</td>\n      <td>4</td>\n    </tr>\n  </tbody>\n</table>\n</div>"
     },
     "metadata": {},
     "execution_count": 85
    }
   ],
   "source": [
    "columns = ['date', 'province', 'cases', 'latitude', 'longitude']\n",
    "covid_italy_df.to_csv(os.path.join(folder_preprocessed, \"covid_italy.csv\"), columns=columns)\n",
    "covid_italy_df.head()"
   ]
  },
  {
   "cell_type": "code",
   "execution_count": null,
   "metadata": {},
   "outputs": [],
   "source": []
  },
  {
   "source": [
    "## Categories"
   ],
   "cell_type": "markdown",
   "metadata": {}
  },
  {
   "cell_type": "code",
   "execution_count": 86,
   "metadata": {},
   "outputs": [
    {
     "output_type": "execute_result",
     "data": {
      "text/plain": [
       "     cat\n",
       "0   left\n",
       "1  right"
      ],
      "text/html": "<div>\n<style scoped>\n    .dataframe tbody tr th:only-of-type {\n        vertical-align: middle;\n    }\n\n    .dataframe tbody tr th {\n        vertical-align: top;\n    }\n\n    .dataframe thead th {\n        text-align: right;\n    }\n</style>\n<table border=\"1\" class=\"dataframe\">\n  <thead>\n    <tr style=\"text-align: right;\">\n      <th></th>\n      <th>cat</th>\n    </tr>\n  </thead>\n  <tbody>\n    <tr>\n      <th>0</th>\n      <td>left</td>\n    </tr>\n    <tr>\n      <th>1</th>\n      <td>right</td>\n    </tr>\n  </tbody>\n</table>\n</div>"
     },
     "metadata": {},
     "execution_count": 86
    }
   ],
   "source": [
    "eye_cat = pd.DataFrame([{'cat': 'left'}, {'cat': 'right'}])\n",
    "eye_cat.to_csv(os.path.join(folder_preprocessed, \"cat_eye.csv\"))\n",
    "eye_cat"
   ]
  },
  {
   "cell_type": "code",
   "execution_count": 87,
   "metadata": {},
   "outputs": [
    {
     "output_type": "execute_result",
     "data": {
      "text/plain": [
       "                     cat\n",
       "0      low (hypotension)\n",
       "1                 normal\n",
       "2               elevated\n",
       "3  grade 1 hypertension \n",
       "4   grade 2 hypertension\n",
       "5    hypertension crisis"
      ],
      "text/html": "<div>\n<style scoped>\n    .dataframe tbody tr th:only-of-type {\n        vertical-align: middle;\n    }\n\n    .dataframe tbody tr th {\n        vertical-align: top;\n    }\n\n    .dataframe thead th {\n        text-align: right;\n    }\n</style>\n<table border=\"1\" class=\"dataframe\">\n  <thead>\n    <tr style=\"text-align: right;\">\n      <th></th>\n      <th>cat</th>\n    </tr>\n  </thead>\n  <tbody>\n    <tr>\n      <th>0</th>\n      <td>low (hypotension)</td>\n    </tr>\n    <tr>\n      <th>1</th>\n      <td>normal</td>\n    </tr>\n    <tr>\n      <th>2</th>\n      <td>elevated</td>\n    </tr>\n    <tr>\n      <th>3</th>\n      <td>grade 1 hypertension</td>\n    </tr>\n    <tr>\n      <th>4</th>\n      <td>grade 2 hypertension</td>\n    </tr>\n    <tr>\n      <th>5</th>\n      <td>hypertension crisis</td>\n    </tr>\n  </tbody>\n</table>\n</div>"
     },
     "metadata": {},
     "execution_count": 87
    }
   ],
   "source": [
    "l = ['low (hypotension)', 'normal', 'elevated', 'grade 1 hypertension ', 'grade 2 hypertension', 'hypertension crisis']\n",
    "bp_cat = pd.DataFrame([{'cat': x} for x in l])\n",
    "bp_cat.to_csv(os.path.join(folder_preprocessed, \"cat_bp.csv\"))\n",
    "bp_cat"
   ]
  },
  {
   "cell_type": "code",
   "execution_count": 88,
   "metadata": {},
   "outputs": [
    {
     "output_type": "execute_result",
     "data": {
      "text/plain": [
       "      cat\n",
       "0    male\n",
       "1  female"
      ],
      "text/html": "<div>\n<style scoped>\n    .dataframe tbody tr th:only-of-type {\n        vertical-align: middle;\n    }\n\n    .dataframe tbody tr th {\n        vertical-align: top;\n    }\n\n    .dataframe thead th {\n        text-align: right;\n    }\n</style>\n<table border=\"1\" class=\"dataframe\">\n  <thead>\n    <tr style=\"text-align: right;\">\n      <th></th>\n      <th>cat</th>\n    </tr>\n  </thead>\n  <tbody>\n    <tr>\n      <th>0</th>\n      <td>male</td>\n    </tr>\n    <tr>\n      <th>1</th>\n      <td>female</td>\n    </tr>\n  </tbody>\n</table>\n</div>"
     },
     "metadata": {},
     "execution_count": 88
    }
   ],
   "source": [
    "gender_cat = pd.DataFrame([{'cat': 'male'}, {'cat': 'female'}])\n",
    "gender_cat.to_csv(os.path.join(folder_preprocessed, \"cat_gender.csv\"))\n",
    "gender_cat"
   ]
  },
  {
   "cell_type": "code",
   "execution_count": 89,
   "metadata": {},
   "outputs": [
    {
     "output_type": "execute_result",
     "data": {
      "text/plain": [
       "   cat\n",
       "0   no\n",
       "1  yes"
      ],
      "text/html": "<div>\n<style scoped>\n    .dataframe tbody tr th:only-of-type {\n        vertical-align: middle;\n    }\n\n    .dataframe tbody tr th {\n        vertical-align: top;\n    }\n\n    .dataframe thead th {\n        text-align: right;\n    }\n</style>\n<table border=\"1\" class=\"dataframe\">\n  <thead>\n    <tr style=\"text-align: right;\">\n      <th></th>\n      <th>cat</th>\n    </tr>\n  </thead>\n  <tbody>\n    <tr>\n      <th>0</th>\n      <td>no</td>\n    </tr>\n    <tr>\n      <th>1</th>\n      <td>yes</td>\n    </tr>\n  </tbody>\n</table>\n</div>"
     },
     "metadata": {},
     "execution_count": 89
    }
   ],
   "source": [
    "binary_cat = pd.DataFrame([{'cat': 'no'}, {'cat': 'yes'}])\n",
    "binary_cat.to_csv(os.path.join(folder_preprocessed, \"cat_binary.csv\"))\n",
    "binary_cat"
   ]
  },
  {
   "cell_type": "code",
   "execution_count": 90,
   "metadata": {},
   "outputs": [
    {
     "output_type": "execute_result",
     "data": {
      "text/plain": [
       "                 cat\n",
       "0             normal\n",
       "1       above normal\n",
       "2  well above normal"
      ],
      "text/html": "<div>\n<style scoped>\n    .dataframe tbody tr th:only-of-type {\n        vertical-align: middle;\n    }\n\n    .dataframe tbody tr th {\n        vertical-align: top;\n    }\n\n    .dataframe thead th {\n        text-align: right;\n    }\n</style>\n<table border=\"1\" class=\"dataframe\">\n  <thead>\n    <tr style=\"text-align: right;\">\n      <th></th>\n      <th>cat</th>\n    </tr>\n  </thead>\n  <tbody>\n    <tr>\n      <th>0</th>\n      <td>normal</td>\n    </tr>\n    <tr>\n      <th>1</th>\n      <td>above normal</td>\n    </tr>\n    <tr>\n      <th>2</th>\n      <td>well above normal</td>\n    </tr>\n  </tbody>\n</table>\n</div>"
     },
     "metadata": {},
     "execution_count": 90
    }
   ],
   "source": [
    "examination_cat = pd.DataFrame([{'cat': 'normal'}, {'cat': 'above normal'}, {'cat': 'well above normal'}])\n",
    "examination_cat.to_csv(os.path.join(folder_preprocessed, \"cat_examination.csv\"))\n",
    "examination_cat"
   ]
  },
  {
   "cell_type": "code",
   "execution_count": 91,
   "metadata": {},
   "outputs": [
    {
     "output_type": "execute_result",
     "data": {
      "text/plain": [
       "                cat\n",
       "0    typical angina\n",
       "1   atypical angina\n",
       "2  non-anginal pain\n",
       "3      asymptomatic"
      ],
      "text/html": "<div>\n<style scoped>\n    .dataframe tbody tr th:only-of-type {\n        vertical-align: middle;\n    }\n\n    .dataframe tbody tr th {\n        vertical-align: top;\n    }\n\n    .dataframe thead th {\n        text-align: right;\n    }\n</style>\n<table border=\"1\" class=\"dataframe\">\n  <thead>\n    <tr style=\"text-align: right;\">\n      <th></th>\n      <th>cat</th>\n    </tr>\n  </thead>\n  <tbody>\n    <tr>\n      <th>0</th>\n      <td>typical angina</td>\n    </tr>\n    <tr>\n      <th>1</th>\n      <td>atypical angina</td>\n    </tr>\n    <tr>\n      <th>2</th>\n      <td>non-anginal pain</td>\n    </tr>\n    <tr>\n      <th>3</th>\n      <td>asymptomatic</td>\n    </tr>\n  </tbody>\n</table>\n</div>"
     },
     "metadata": {},
     "execution_count": 91
    }
   ],
   "source": [
    "chest_pain_cat = pd.DataFrame([{\"cat\": \"typical angina\"}, {\"cat\": \"atypical angina\"}, {\"cat\": \"non-anginal pain\"}, {\"cat\": \"asymptomatic\"}])\n",
    "chest_pain_cat.to_csv(os.path.join(folder_preprocessed, \"cat_chest_pain.csv\"))\n",
    "chest_pain_cat"
   ]
  },
  {
   "cell_type": "code",
   "execution_count": null,
   "metadata": {},
   "outputs": [],
   "source": []
  }
 ]
}